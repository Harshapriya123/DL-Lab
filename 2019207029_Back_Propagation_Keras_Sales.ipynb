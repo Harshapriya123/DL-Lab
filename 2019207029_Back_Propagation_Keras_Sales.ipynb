{
  "nbformat": 4,
  "nbformat_minor": 0,
  "metadata": {
    "kernelspec": {
      "display_name": "Python 3",
      "language": "python",
      "name": "python3"
    },
    "language_info": {
      "codemirror_mode": {
        "name": "ipython",
        "version": 3
      },
      "file_extension": ".py",
      "mimetype": "text/x-python",
      "name": "python",
      "nbconvert_exporter": "python",
      "pygments_lexer": "ipython3",
      "version": "3.7.7"
    },
    "colab": {
      "name": "2019207029_Back_Propagation_Keras_Sales.ipynb",
      "provenance": [],
      "include_colab_link": true
    }
  },
  "cells": [
    {
      "cell_type": "markdown",
      "metadata": {
        "id": "view-in-github",
        "colab_type": "text"
      },
      "source": [
        "<a href=\"https://colab.research.google.com/github/Harshapriya123/DL-Lab/blob/master/2019207029_Back_Propagation_Keras_Sales.ipynb\" target=\"_parent\"><img src=\"https://colab.research.google.com/assets/colab-badge.svg\" alt=\"Open In Colab\"/></a>"
      ]
    },
    {
      "cell_type": "code",
      "metadata": {
        "id": "Co9MqH5QL-E5",
        "colab_type": "code",
        "colab": {}
      },
      "source": [
        "import keras\n",
        "import numpy as np\n",
        "import pandas as pd\n",
        "from sklearn.model_selection import train_test_split\n",
        "from sklearn.preprocessing import LabelEncoder\n",
        "import matplotlib.pyplot as plt\n",
        "import sklearn.metrics, math\n",
        "from sklearn.linear_model import LinearRegression"
      ],
      "execution_count": 1,
      "outputs": []
    },
    {
      "cell_type": "code",
      "metadata": {
        "id": "pCOzfdspL-E_",
        "colab_type": "code",
        "colab": {}
      },
      "source": [
        "data = pd.read_csv('/content/bigmart_sales_data.csv')"
      ],
      "execution_count": 2,
      "outputs": []
    },
    {
      "cell_type": "code",
      "metadata": {
        "id": "hh7XrWVFL-FC",
        "colab_type": "code",
        "colab": {
          "base_uri": "https://localhost:8080/",
          "height": 309
        },
        "outputId": "c3a3a8da-1918-49bb-8a18-40510cff8385"
      },
      "source": [
        "data.head()"
      ],
      "execution_count": 3,
      "outputs": [
        {
          "output_type": "execute_result",
          "data": {
            "text/html": [
              "<div>\n",
              "<style scoped>\n",
              "    .dataframe tbody tr th:only-of-type {\n",
              "        vertical-align: middle;\n",
              "    }\n",
              "\n",
              "    .dataframe tbody tr th {\n",
              "        vertical-align: top;\n",
              "    }\n",
              "\n",
              "    .dataframe thead th {\n",
              "        text-align: right;\n",
              "    }\n",
              "</style>\n",
              "<table border=\"1\" class=\"dataframe\">\n",
              "  <thead>\n",
              "    <tr style=\"text-align: right;\">\n",
              "      <th></th>\n",
              "      <th>Item_Identifier</th>\n",
              "      <th>Item_Weight</th>\n",
              "      <th>Item_Fat_Content</th>\n",
              "      <th>Item_Visibility</th>\n",
              "      <th>Item_Type</th>\n",
              "      <th>Item_MRP</th>\n",
              "      <th>Outlet_Identifier</th>\n",
              "      <th>Outlet_Establishment_Year</th>\n",
              "      <th>Outlet_Size</th>\n",
              "      <th>Outlet_Location_Type</th>\n",
              "      <th>Outlet_Type</th>\n",
              "      <th>Item_Outlet_Sales</th>\n",
              "    </tr>\n",
              "  </thead>\n",
              "  <tbody>\n",
              "    <tr>\n",
              "      <th>0</th>\n",
              "      <td>FDA15</td>\n",
              "      <td>9.30</td>\n",
              "      <td>Low Fat</td>\n",
              "      <td>0.016047</td>\n",
              "      <td>Dairy</td>\n",
              "      <td>249.8092</td>\n",
              "      <td>OUT049</td>\n",
              "      <td>1999</td>\n",
              "      <td>Medium</td>\n",
              "      <td>Tier 1</td>\n",
              "      <td>Supermarket Type1</td>\n",
              "      <td>3735.1380</td>\n",
              "    </tr>\n",
              "    <tr>\n",
              "      <th>1</th>\n",
              "      <td>DRC01</td>\n",
              "      <td>5.92</td>\n",
              "      <td>Regular</td>\n",
              "      <td>0.019278</td>\n",
              "      <td>Soft Drinks</td>\n",
              "      <td>48.2692</td>\n",
              "      <td>OUT018</td>\n",
              "      <td>2009</td>\n",
              "      <td>Medium</td>\n",
              "      <td>Tier 3</td>\n",
              "      <td>Supermarket Type2</td>\n",
              "      <td>443.4228</td>\n",
              "    </tr>\n",
              "    <tr>\n",
              "      <th>2</th>\n",
              "      <td>FDN15</td>\n",
              "      <td>17.50</td>\n",
              "      <td>Low Fat</td>\n",
              "      <td>0.016760</td>\n",
              "      <td>Meat</td>\n",
              "      <td>141.6180</td>\n",
              "      <td>OUT049</td>\n",
              "      <td>1999</td>\n",
              "      <td>Medium</td>\n",
              "      <td>Tier 1</td>\n",
              "      <td>Supermarket Type1</td>\n",
              "      <td>2097.2700</td>\n",
              "    </tr>\n",
              "    <tr>\n",
              "      <th>3</th>\n",
              "      <td>FDX07</td>\n",
              "      <td>19.20</td>\n",
              "      <td>Regular</td>\n",
              "      <td>0.000000</td>\n",
              "      <td>Fruits and Vegetables</td>\n",
              "      <td>182.0950</td>\n",
              "      <td>OUT010</td>\n",
              "      <td>1998</td>\n",
              "      <td>NaN</td>\n",
              "      <td>Tier 3</td>\n",
              "      <td>Grocery Store</td>\n",
              "      <td>732.3800</td>\n",
              "    </tr>\n",
              "    <tr>\n",
              "      <th>4</th>\n",
              "      <td>NCD19</td>\n",
              "      <td>8.93</td>\n",
              "      <td>Low Fat</td>\n",
              "      <td>0.000000</td>\n",
              "      <td>Household</td>\n",
              "      <td>53.8614</td>\n",
              "      <td>OUT013</td>\n",
              "      <td>1987</td>\n",
              "      <td>High</td>\n",
              "      <td>Tier 3</td>\n",
              "      <td>Supermarket Type1</td>\n",
              "      <td>994.7052</td>\n",
              "    </tr>\n",
              "  </tbody>\n",
              "</table>\n",
              "</div>"
            ],
            "text/plain": [
              "  Item_Identifier  Item_Weight  ...        Outlet_Type  Item_Outlet_Sales\n",
              "0           FDA15         9.30  ...  Supermarket Type1          3735.1380\n",
              "1           DRC01         5.92  ...  Supermarket Type2           443.4228\n",
              "2           FDN15        17.50  ...  Supermarket Type1          2097.2700\n",
              "3           FDX07        19.20  ...      Grocery Store           732.3800\n",
              "4           NCD19         8.93  ...  Supermarket Type1           994.7052\n",
              "\n",
              "[5 rows x 12 columns]"
            ]
          },
          "metadata": {
            "tags": []
          },
          "execution_count": 3
        }
      ]
    },
    {
      "cell_type": "markdown",
      "metadata": {
        "id": "F9iPNmJIL-FH",
        "colab_type": "text"
      },
      "source": [
        "### 1) Preprocessing"
      ]
    },
    {
      "cell_type": "code",
      "metadata": {
        "scrolled": true,
        "id": "Recw8MTUL-FI",
        "colab_type": "code",
        "colab": {
          "base_uri": "https://localhost:8080/",
          "height": 34
        },
        "outputId": "7bf48f59-5b45-4862-b6ae-d34a9012b0d2"
      },
      "source": [
        "print('Data shape:', data.shape)"
      ],
      "execution_count": 4,
      "outputs": [
        {
          "output_type": "stream",
          "text": [
            "Data shape: (8523, 12)\n"
          ],
          "name": "stdout"
        }
      ]
    },
    {
      "cell_type": "markdown",
      "metadata": {
        "id": "BHumg64TL-FM",
        "colab_type": "text"
      },
      "source": [
        "#### Handling NA values"
      ]
    },
    {
      "cell_type": "code",
      "metadata": {
        "id": "MyyQuJ-NL-FM",
        "colab_type": "code",
        "colab": {
          "base_uri": "https://localhost:8080/",
          "height": 238
        },
        "outputId": "ab0fc4d3-0695-43ac-81a4-5843e702e3e9"
      },
      "source": [
        "data.isnull().sum()"
      ],
      "execution_count": 5,
      "outputs": [
        {
          "output_type": "execute_result",
          "data": {
            "text/plain": [
              "Item_Identifier                 0\n",
              "Item_Weight                  1463\n",
              "Item_Fat_Content                0\n",
              "Item_Visibility                 0\n",
              "Item_Type                       0\n",
              "Item_MRP                        0\n",
              "Outlet_Identifier               0\n",
              "Outlet_Establishment_Year       0\n",
              "Outlet_Size                  2410\n",
              "Outlet_Location_Type            0\n",
              "Outlet_Type                     0\n",
              "Item_Outlet_Sales               0\n",
              "dtype: int64"
            ]
          },
          "metadata": {
            "tags": []
          },
          "execution_count": 5
        }
      ]
    },
    {
      "cell_type": "markdown",
      "metadata": {
        "id": "PD2vc5QFL-FQ",
        "colab_type": "text"
      },
      "source": [
        "**Item_Weight** and **Outlet Size** have null values. We shall explore the datatype and the remove them."
      ]
    },
    {
      "cell_type": "code",
      "metadata": {
        "scrolled": true,
        "id": "McurWIvKL-FR",
        "colab_type": "code",
        "colab": {
          "base_uri": "https://localhost:8080/",
          "height": 340
        },
        "outputId": "661e5dca-9b1b-4bd5-de1f-e8b63ec8dc93"
      },
      "source": [
        "data.info()"
      ],
      "execution_count": 6,
      "outputs": [
        {
          "output_type": "stream",
          "text": [
            "<class 'pandas.core.frame.DataFrame'>\n",
            "RangeIndex: 8523 entries, 0 to 8522\n",
            "Data columns (total 12 columns):\n",
            " #   Column                     Non-Null Count  Dtype  \n",
            "---  ------                     --------------  -----  \n",
            " 0   Item_Identifier            8523 non-null   object \n",
            " 1   Item_Weight                7060 non-null   float64\n",
            " 2   Item_Fat_Content           8523 non-null   object \n",
            " 3   Item_Visibility            8523 non-null   float64\n",
            " 4   Item_Type                  8523 non-null   object \n",
            " 5   Item_MRP                   8523 non-null   float64\n",
            " 6   Outlet_Identifier          8523 non-null   object \n",
            " 7   Outlet_Establishment_Year  8523 non-null   int64  \n",
            " 8   Outlet_Size                6113 non-null   object \n",
            " 9   Outlet_Location_Type       8523 non-null   object \n",
            " 10  Outlet_Type                8523 non-null   object \n",
            " 11  Item_Outlet_Sales          8523 non-null   float64\n",
            "dtypes: float64(4), int64(1), object(7)\n",
            "memory usage: 799.2+ KB\n"
          ],
          "name": "stdout"
        }
      ]
    },
    {
      "cell_type": "code",
      "metadata": {
        "id": "STXvsNGcL-FV",
        "colab_type": "code",
        "colab": {}
      },
      "source": [
        "data['Item_Weight'].fillna(data['Item_Weight'].mean(), inplace=True)\n",
        "data['Outlet_Size'].fillna(data['Outlet_Size'].mode()[0], inplace=True)"
      ],
      "execution_count": 7,
      "outputs": []
    },
    {
      "cell_type": "code",
      "metadata": {
        "id": "j6gYgPuIL-FZ",
        "colab_type": "code",
        "colab": {
          "base_uri": "https://localhost:8080/",
          "height": 309
        },
        "outputId": "39b618ce-66a8-4b26-b9a8-54480c421f17"
      },
      "source": [
        "data.head()"
      ],
      "execution_count": 8,
      "outputs": [
        {
          "output_type": "execute_result",
          "data": {
            "text/html": [
              "<div>\n",
              "<style scoped>\n",
              "    .dataframe tbody tr th:only-of-type {\n",
              "        vertical-align: middle;\n",
              "    }\n",
              "\n",
              "    .dataframe tbody tr th {\n",
              "        vertical-align: top;\n",
              "    }\n",
              "\n",
              "    .dataframe thead th {\n",
              "        text-align: right;\n",
              "    }\n",
              "</style>\n",
              "<table border=\"1\" class=\"dataframe\">\n",
              "  <thead>\n",
              "    <tr style=\"text-align: right;\">\n",
              "      <th></th>\n",
              "      <th>Item_Identifier</th>\n",
              "      <th>Item_Weight</th>\n",
              "      <th>Item_Fat_Content</th>\n",
              "      <th>Item_Visibility</th>\n",
              "      <th>Item_Type</th>\n",
              "      <th>Item_MRP</th>\n",
              "      <th>Outlet_Identifier</th>\n",
              "      <th>Outlet_Establishment_Year</th>\n",
              "      <th>Outlet_Size</th>\n",
              "      <th>Outlet_Location_Type</th>\n",
              "      <th>Outlet_Type</th>\n",
              "      <th>Item_Outlet_Sales</th>\n",
              "    </tr>\n",
              "  </thead>\n",
              "  <tbody>\n",
              "    <tr>\n",
              "      <th>0</th>\n",
              "      <td>FDA15</td>\n",
              "      <td>9.30</td>\n",
              "      <td>Low Fat</td>\n",
              "      <td>0.016047</td>\n",
              "      <td>Dairy</td>\n",
              "      <td>249.8092</td>\n",
              "      <td>OUT049</td>\n",
              "      <td>1999</td>\n",
              "      <td>Medium</td>\n",
              "      <td>Tier 1</td>\n",
              "      <td>Supermarket Type1</td>\n",
              "      <td>3735.1380</td>\n",
              "    </tr>\n",
              "    <tr>\n",
              "      <th>1</th>\n",
              "      <td>DRC01</td>\n",
              "      <td>5.92</td>\n",
              "      <td>Regular</td>\n",
              "      <td>0.019278</td>\n",
              "      <td>Soft Drinks</td>\n",
              "      <td>48.2692</td>\n",
              "      <td>OUT018</td>\n",
              "      <td>2009</td>\n",
              "      <td>Medium</td>\n",
              "      <td>Tier 3</td>\n",
              "      <td>Supermarket Type2</td>\n",
              "      <td>443.4228</td>\n",
              "    </tr>\n",
              "    <tr>\n",
              "      <th>2</th>\n",
              "      <td>FDN15</td>\n",
              "      <td>17.50</td>\n",
              "      <td>Low Fat</td>\n",
              "      <td>0.016760</td>\n",
              "      <td>Meat</td>\n",
              "      <td>141.6180</td>\n",
              "      <td>OUT049</td>\n",
              "      <td>1999</td>\n",
              "      <td>Medium</td>\n",
              "      <td>Tier 1</td>\n",
              "      <td>Supermarket Type1</td>\n",
              "      <td>2097.2700</td>\n",
              "    </tr>\n",
              "    <tr>\n",
              "      <th>3</th>\n",
              "      <td>FDX07</td>\n",
              "      <td>19.20</td>\n",
              "      <td>Regular</td>\n",
              "      <td>0.000000</td>\n",
              "      <td>Fruits and Vegetables</td>\n",
              "      <td>182.0950</td>\n",
              "      <td>OUT010</td>\n",
              "      <td>1998</td>\n",
              "      <td>Medium</td>\n",
              "      <td>Tier 3</td>\n",
              "      <td>Grocery Store</td>\n",
              "      <td>732.3800</td>\n",
              "    </tr>\n",
              "    <tr>\n",
              "      <th>4</th>\n",
              "      <td>NCD19</td>\n",
              "      <td>8.93</td>\n",
              "      <td>Low Fat</td>\n",
              "      <td>0.000000</td>\n",
              "      <td>Household</td>\n",
              "      <td>53.8614</td>\n",
              "      <td>OUT013</td>\n",
              "      <td>1987</td>\n",
              "      <td>High</td>\n",
              "      <td>Tier 3</td>\n",
              "      <td>Supermarket Type1</td>\n",
              "      <td>994.7052</td>\n",
              "    </tr>\n",
              "  </tbody>\n",
              "</table>\n",
              "</div>"
            ],
            "text/plain": [
              "  Item_Identifier  Item_Weight  ...        Outlet_Type  Item_Outlet_Sales\n",
              "0           FDA15         9.30  ...  Supermarket Type1          3735.1380\n",
              "1           DRC01         5.92  ...  Supermarket Type2           443.4228\n",
              "2           FDN15        17.50  ...  Supermarket Type1          2097.2700\n",
              "3           FDX07        19.20  ...      Grocery Store           732.3800\n",
              "4           NCD19         8.93  ...  Supermarket Type1           994.7052\n",
              "\n",
              "[5 rows x 12 columns]"
            ]
          },
          "metadata": {
            "tags": []
          },
          "execution_count": 8
        }
      ]
    },
    {
      "cell_type": "markdown",
      "metadata": {
        "id": "4GcocU-uL-Fd",
        "colab_type": "text"
      },
      "source": [
        "#### Handling Categorical Value"
      ]
    },
    {
      "cell_type": "code",
      "metadata": {
        "id": "tZtOlD-wL-Fd",
        "colab_type": "code",
        "colab": {}
      },
      "source": [
        "le_obj = LabelEncoder()"
      ],
      "execution_count": 10,
      "outputs": []
    },
    {
      "cell_type": "markdown",
      "metadata": {
        "id": "qf6x-UMPL-Fh",
        "colab_type": "text"
      },
      "source": [
        "Handling **Item_Identifier**"
      ]
    },
    {
      "cell_type": "code",
      "metadata": {
        "id": "g43fFmIuL-Fh",
        "colab_type": "code",
        "colab": {
          "base_uri": "https://localhost:8080/",
          "height": 221
        },
        "outputId": "50f50a72-a272-49e4-dc13-d9b671df9fda"
      },
      "source": [
        "data['Item_Identifier'].value_counts()"
      ],
      "execution_count": 11,
      "outputs": [
        {
          "output_type": "execute_result",
          "data": {
            "text/plain": [
              "FDG33    10\n",
              "FDW13    10\n",
              "FDG09     9\n",
              "FDP25     9\n",
              "DRN47     9\n",
              "         ..\n",
              "FDC23     1\n",
              "FDK57     1\n",
              "FDT35     1\n",
              "FDN52     1\n",
              "FDY43     1\n",
              "Name: Item_Identifier, Length: 1559, dtype: int64"
            ]
          },
          "metadata": {
            "tags": []
          },
          "execution_count": 11
        }
      ]
    },
    {
      "cell_type": "code",
      "metadata": {
        "id": "ZkhC0pkgL-Fl",
        "colab_type": "code",
        "colab": {
          "base_uri": "https://localhost:8080/",
          "height": 309
        },
        "outputId": "20664aec-092d-4e47-d1d0-24228f7f277e"
      },
      "source": [
        "data.drop('Item_Identifier', axis=1, inplace=True)\n",
        "data.head()"
      ],
      "execution_count": 12,
      "outputs": [
        {
          "output_type": "execute_result",
          "data": {
            "text/html": [
              "<div>\n",
              "<style scoped>\n",
              "    .dataframe tbody tr th:only-of-type {\n",
              "        vertical-align: middle;\n",
              "    }\n",
              "\n",
              "    .dataframe tbody tr th {\n",
              "        vertical-align: top;\n",
              "    }\n",
              "\n",
              "    .dataframe thead th {\n",
              "        text-align: right;\n",
              "    }\n",
              "</style>\n",
              "<table border=\"1\" class=\"dataframe\">\n",
              "  <thead>\n",
              "    <tr style=\"text-align: right;\">\n",
              "      <th></th>\n",
              "      <th>Item_Weight</th>\n",
              "      <th>Item_Fat_Content</th>\n",
              "      <th>Item_Visibility</th>\n",
              "      <th>Item_Type</th>\n",
              "      <th>Item_MRP</th>\n",
              "      <th>Outlet_Identifier</th>\n",
              "      <th>Outlet_Establishment_Year</th>\n",
              "      <th>Outlet_Size</th>\n",
              "      <th>Outlet_Location_Type</th>\n",
              "      <th>Outlet_Type</th>\n",
              "      <th>Item_Outlet_Sales</th>\n",
              "    </tr>\n",
              "  </thead>\n",
              "  <tbody>\n",
              "    <tr>\n",
              "      <th>0</th>\n",
              "      <td>9.30</td>\n",
              "      <td>Low Fat</td>\n",
              "      <td>0.016047</td>\n",
              "      <td>Dairy</td>\n",
              "      <td>249.8092</td>\n",
              "      <td>OUT049</td>\n",
              "      <td>1999</td>\n",
              "      <td>Medium</td>\n",
              "      <td>Tier 1</td>\n",
              "      <td>Supermarket Type1</td>\n",
              "      <td>3735.1380</td>\n",
              "    </tr>\n",
              "    <tr>\n",
              "      <th>1</th>\n",
              "      <td>5.92</td>\n",
              "      <td>Regular</td>\n",
              "      <td>0.019278</td>\n",
              "      <td>Soft Drinks</td>\n",
              "      <td>48.2692</td>\n",
              "      <td>OUT018</td>\n",
              "      <td>2009</td>\n",
              "      <td>Medium</td>\n",
              "      <td>Tier 3</td>\n",
              "      <td>Supermarket Type2</td>\n",
              "      <td>443.4228</td>\n",
              "    </tr>\n",
              "    <tr>\n",
              "      <th>2</th>\n",
              "      <td>17.50</td>\n",
              "      <td>Low Fat</td>\n",
              "      <td>0.016760</td>\n",
              "      <td>Meat</td>\n",
              "      <td>141.6180</td>\n",
              "      <td>OUT049</td>\n",
              "      <td>1999</td>\n",
              "      <td>Medium</td>\n",
              "      <td>Tier 1</td>\n",
              "      <td>Supermarket Type1</td>\n",
              "      <td>2097.2700</td>\n",
              "    </tr>\n",
              "    <tr>\n",
              "      <th>3</th>\n",
              "      <td>19.20</td>\n",
              "      <td>Regular</td>\n",
              "      <td>0.000000</td>\n",
              "      <td>Fruits and Vegetables</td>\n",
              "      <td>182.0950</td>\n",
              "      <td>OUT010</td>\n",
              "      <td>1998</td>\n",
              "      <td>Medium</td>\n",
              "      <td>Tier 3</td>\n",
              "      <td>Grocery Store</td>\n",
              "      <td>732.3800</td>\n",
              "    </tr>\n",
              "    <tr>\n",
              "      <th>4</th>\n",
              "      <td>8.93</td>\n",
              "      <td>Low Fat</td>\n",
              "      <td>0.000000</td>\n",
              "      <td>Household</td>\n",
              "      <td>53.8614</td>\n",
              "      <td>OUT013</td>\n",
              "      <td>1987</td>\n",
              "      <td>High</td>\n",
              "      <td>Tier 3</td>\n",
              "      <td>Supermarket Type1</td>\n",
              "      <td>994.7052</td>\n",
              "    </tr>\n",
              "  </tbody>\n",
              "</table>\n",
              "</div>"
            ],
            "text/plain": [
              "   Item_Weight Item_Fat_Content  ...        Outlet_Type Item_Outlet_Sales\n",
              "0         9.30          Low Fat  ...  Supermarket Type1         3735.1380\n",
              "1         5.92          Regular  ...  Supermarket Type2          443.4228\n",
              "2        17.50          Low Fat  ...  Supermarket Type1         2097.2700\n",
              "3        19.20          Regular  ...      Grocery Store          732.3800\n",
              "4         8.93          Low Fat  ...  Supermarket Type1          994.7052\n",
              "\n",
              "[5 rows x 11 columns]"
            ]
          },
          "metadata": {
            "tags": []
          },
          "execution_count": 12
        }
      ]
    },
    {
      "cell_type": "markdown",
      "metadata": {
        "id": "RiWGTvOOL-Fp",
        "colab_type": "text"
      },
      "source": [
        "Handling **Item_Fat_Content**"
      ]
    },
    {
      "cell_type": "code",
      "metadata": {
        "id": "ddee6qgbL-Fp",
        "colab_type": "code",
        "colab": {
          "base_uri": "https://localhost:8080/",
          "height": 119
        },
        "outputId": "a1205295-4441-45d1-9501-ca784267bf6a"
      },
      "source": [
        "data['Item_Fat_Content'].value_counts()"
      ],
      "execution_count": 13,
      "outputs": [
        {
          "output_type": "execute_result",
          "data": {
            "text/plain": [
              "Low Fat    5089\n",
              "Regular    2889\n",
              "LF          316\n",
              "reg         117\n",
              "low fat     112\n",
              "Name: Item_Fat_Content, dtype: int64"
            ]
          },
          "metadata": {
            "tags": []
          },
          "execution_count": 13
        }
      ]
    },
    {
      "cell_type": "code",
      "metadata": {
        "id": "wYmnzA3UL-Fs",
        "colab_type": "code",
        "colab": {}
      },
      "source": [
        "# Replacing 'low fat', 'LF' with 'Low Fat'\n",
        "data.Item_Fat_Content.replace('LF','Low Fat',inplace=True)\n",
        "data.Item_Fat_Content.replace('low fat','Low Fat',inplace=True)\n",
        "# Replacing 'reg' with 'Regular' \n",
        "data.Item_Fat_Content.replace('reg','Regular',inplace=True)"
      ],
      "execution_count": 14,
      "outputs": []
    },
    {
      "cell_type": "code",
      "metadata": {
        "id": "8wE_yiqjL-Fw",
        "colab_type": "code",
        "colab": {
          "base_uri": "https://localhost:8080/",
          "height": 68
        },
        "outputId": "70a35ad0-d609-4d74-ed59-cafeb6293bf8"
      },
      "source": [
        "data['Item_Fat_Content'].value_counts()"
      ],
      "execution_count": 15,
      "outputs": [
        {
          "output_type": "execute_result",
          "data": {
            "text/plain": [
              "Low Fat    5517\n",
              "Regular    3006\n",
              "Name: Item_Fat_Content, dtype: int64"
            ]
          },
          "metadata": {
            "tags": []
          },
          "execution_count": 15
        }
      ]
    },
    {
      "cell_type": "code",
      "metadata": {
        "id": "MSWOF0xOL-Fz",
        "colab_type": "code",
        "colab": {
          "base_uri": "https://localhost:8080/",
          "height": 68
        },
        "outputId": "e58050fd-fe8e-4754-b8df-4975be7d24cf"
      },
      "source": [
        "data['Item_Fat_Content']= le_obj.fit_transform (data['Item_Fat_Content'])\n",
        "data['Item_Fat_Content'].value_counts()"
      ],
      "execution_count": 16,
      "outputs": [
        {
          "output_type": "execute_result",
          "data": {
            "text/plain": [
              "0    5517\n",
              "1    3006\n",
              "Name: Item_Fat_Content, dtype: int64"
            ]
          },
          "metadata": {
            "tags": []
          },
          "execution_count": 16
        }
      ]
    },
    {
      "cell_type": "markdown",
      "metadata": {
        "id": "uhBOkt6zL-F3",
        "colab_type": "text"
      },
      "source": [
        "Handling **Item_Type**"
      ]
    },
    {
      "cell_type": "code",
      "metadata": {
        "id": "NDTVlOwfL-F3",
        "colab_type": "code",
        "colab": {
          "base_uri": "https://localhost:8080/",
          "height": 306
        },
        "outputId": "f308c02f-fdac-4597-e85c-37926147ba40"
      },
      "source": [
        "data['Item_Type'].value_counts()"
      ],
      "execution_count": 17,
      "outputs": [
        {
          "output_type": "execute_result",
          "data": {
            "text/plain": [
              "Fruits and Vegetables    1232\n",
              "Snack Foods              1200\n",
              "Household                 910\n",
              "Frozen Foods              856\n",
              "Dairy                     682\n",
              "Canned                    649\n",
              "Baking Goods              648\n",
              "Health and Hygiene        520\n",
              "Soft Drinks               445\n",
              "Meat                      425\n",
              "Breads                    251\n",
              "Hard Drinks               214\n",
              "Others                    169\n",
              "Starchy Foods             148\n",
              "Breakfast                 110\n",
              "Seafood                    64\n",
              "Name: Item_Type, dtype: int64"
            ]
          },
          "metadata": {
            "tags": []
          },
          "execution_count": 17
        }
      ]
    },
    {
      "cell_type": "code",
      "metadata": {
        "id": "7UbPF0RZL-F7",
        "colab_type": "code",
        "colab": {
          "base_uri": "https://localhost:8080/",
          "height": 306
        },
        "outputId": "ba666ad9-e8ff-4985-dd19-735507829066"
      },
      "source": [
        "data['Item_Type']= le_obj.fit_transform (data['Item_Type'])\n",
        "data['Item_Type'].value_counts()"
      ],
      "execution_count": 18,
      "outputs": [
        {
          "output_type": "execute_result",
          "data": {
            "text/plain": [
              "6     1232\n",
              "13    1200\n",
              "9      910\n",
              "5      856\n",
              "4      682\n",
              "3      649\n",
              "0      648\n",
              "8      520\n",
              "14     445\n",
              "10     425\n",
              "1      251\n",
              "7      214\n",
              "11     169\n",
              "15     148\n",
              "2      110\n",
              "12      64\n",
              "Name: Item_Type, dtype: int64"
            ]
          },
          "metadata": {
            "tags": []
          },
          "execution_count": 18
        }
      ]
    },
    {
      "cell_type": "markdown",
      "metadata": {
        "id": "qAPL8HZRL-F_",
        "colab_type": "text"
      },
      "source": [
        "Handling **Outlet_Identifier**"
      ]
    },
    {
      "cell_type": "code",
      "metadata": {
        "id": "mDR0l1C7L-F_",
        "colab_type": "code",
        "colab": {
          "base_uri": "https://localhost:8080/",
          "height": 204
        },
        "outputId": "d9b22296-3f78-4a58-cffa-9d4d4d88adfe"
      },
      "source": [
        "data['Outlet_Identifier'].value_counts()"
      ],
      "execution_count": 19,
      "outputs": [
        {
          "output_type": "execute_result",
          "data": {
            "text/plain": [
              "OUT027    935\n",
              "OUT013    932\n",
              "OUT046    930\n",
              "OUT049    930\n",
              "OUT035    930\n",
              "OUT045    929\n",
              "OUT018    928\n",
              "OUT017    926\n",
              "OUT010    555\n",
              "OUT019    528\n",
              "Name: Outlet_Identifier, dtype: int64"
            ]
          },
          "metadata": {
            "tags": []
          },
          "execution_count": 19
        }
      ]
    },
    {
      "cell_type": "code",
      "metadata": {
        "id": "KweKI5FPL-GD",
        "colab_type": "code",
        "colab": {
          "base_uri": "https://localhost:8080/",
          "height": 204
        },
        "outputId": "ad1b0bf9-0938-4cba-8fd1-e7752c366455"
      },
      "source": [
        "data['Outlet_Identifier']= le_obj.fit_transform (data['Outlet_Identifier'])\n",
        "data['Outlet_Identifier'].value_counts()"
      ],
      "execution_count": 20,
      "outputs": [
        {
          "output_type": "execute_result",
          "data": {
            "text/plain": [
              "5    935\n",
              "1    932\n",
              "6    930\n",
              "9    930\n",
              "8    930\n",
              "7    929\n",
              "3    928\n",
              "2    926\n",
              "0    555\n",
              "4    528\n",
              "Name: Outlet_Identifier, dtype: int64"
            ]
          },
          "metadata": {
            "tags": []
          },
          "execution_count": 20
        }
      ]
    },
    {
      "cell_type": "markdown",
      "metadata": {
        "id": "1THw9z9aL-GG",
        "colab_type": "text"
      },
      "source": [
        "Handling **Outlet_Size**"
      ]
    },
    {
      "cell_type": "code",
      "metadata": {
        "id": "WRK-bXNxL-GG",
        "colab_type": "code",
        "colab": {
          "base_uri": "https://localhost:8080/",
          "height": 85
        },
        "outputId": "09669a2e-548a-4b20-e982-97bfd0de77aa"
      },
      "source": [
        "data['Outlet_Size'].value_counts()"
      ],
      "execution_count": 21,
      "outputs": [
        {
          "output_type": "execute_result",
          "data": {
            "text/plain": [
              "Medium    5203\n",
              "Small     2388\n",
              "High       932\n",
              "Name: Outlet_Size, dtype: int64"
            ]
          },
          "metadata": {
            "tags": []
          },
          "execution_count": 21
        }
      ]
    },
    {
      "cell_type": "code",
      "metadata": {
        "id": "hTTw9TD8L-GJ",
        "colab_type": "code",
        "colab": {
          "base_uri": "https://localhost:8080/",
          "height": 85
        },
        "outputId": "2b14219a-e0bf-43c6-c816-b85c42800241"
      },
      "source": [
        "data['Outlet_Size']= le_obj.fit_transform (data['Outlet_Size'])\n",
        "data['Outlet_Size'].value_counts()"
      ],
      "execution_count": 22,
      "outputs": [
        {
          "output_type": "execute_result",
          "data": {
            "text/plain": [
              "1    5203\n",
              "2    2388\n",
              "0     932\n",
              "Name: Outlet_Size, dtype: int64"
            ]
          },
          "metadata": {
            "tags": []
          },
          "execution_count": 22
        }
      ]
    },
    {
      "cell_type": "markdown",
      "metadata": {
        "id": "Zm_sCcPGL-GM",
        "colab_type": "text"
      },
      "source": [
        "Handling **Outlet_Location_Type**"
      ]
    },
    {
      "cell_type": "code",
      "metadata": {
        "id": "TlwdqmMML-GN",
        "colab_type": "code",
        "colab": {
          "base_uri": "https://localhost:8080/",
          "height": 85
        },
        "outputId": "4bb7893f-ece7-4797-efae-72c3b45c990a"
      },
      "source": [
        "data['Outlet_Location_Type'].value_counts()"
      ],
      "execution_count": 23,
      "outputs": [
        {
          "output_type": "execute_result",
          "data": {
            "text/plain": [
              "Tier 3    3350\n",
              "Tier 2    2785\n",
              "Tier 1    2388\n",
              "Name: Outlet_Location_Type, dtype: int64"
            ]
          },
          "metadata": {
            "tags": []
          },
          "execution_count": 23
        }
      ]
    },
    {
      "cell_type": "code",
      "metadata": {
        "id": "5c-N50S2L-GR",
        "colab_type": "code",
        "colab": {
          "base_uri": "https://localhost:8080/",
          "height": 85
        },
        "outputId": "a1745b1c-0078-4194-d8dd-74e27d7640fe"
      },
      "source": [
        "data['Outlet_Location_Type']= le_obj.fit_transform (data['Outlet_Location_Type'])\n",
        "data['Outlet_Location_Type'].value_counts()"
      ],
      "execution_count": 24,
      "outputs": [
        {
          "output_type": "execute_result",
          "data": {
            "text/plain": [
              "2    3350\n",
              "1    2785\n",
              "0    2388\n",
              "Name: Outlet_Location_Type, dtype: int64"
            ]
          },
          "metadata": {
            "tags": []
          },
          "execution_count": 24
        }
      ]
    },
    {
      "cell_type": "markdown",
      "metadata": {
        "id": "PNxUcaIJL-GU",
        "colab_type": "text"
      },
      "source": [
        "Handling **Outlet_Type**"
      ]
    },
    {
      "cell_type": "code",
      "metadata": {
        "id": "e_w0E585L-GV",
        "colab_type": "code",
        "colab": {
          "base_uri": "https://localhost:8080/",
          "height": 102
        },
        "outputId": "47626103-c5d7-4153-c3ce-15bba6eca411"
      },
      "source": [
        "data['Outlet_Type'].value_counts()"
      ],
      "execution_count": 25,
      "outputs": [
        {
          "output_type": "execute_result",
          "data": {
            "text/plain": [
              "Supermarket Type1    5577\n",
              "Grocery Store        1083\n",
              "Supermarket Type3     935\n",
              "Supermarket Type2     928\n",
              "Name: Outlet_Type, dtype: int64"
            ]
          },
          "metadata": {
            "tags": []
          },
          "execution_count": 25
        }
      ]
    },
    {
      "cell_type": "code",
      "metadata": {
        "scrolled": true,
        "id": "CwrIpIjFL-GY",
        "colab_type": "code",
        "colab": {
          "base_uri": "https://localhost:8080/",
          "height": 102
        },
        "outputId": "710fab0f-c2ca-4e83-c10f-4b01e08275e1"
      },
      "source": [
        "data['Outlet_Type']= le_obj.fit_transform (data['Outlet_Type'])\n",
        "data['Outlet_Type'].value_counts()"
      ],
      "execution_count": 27,
      "outputs": [
        {
          "output_type": "execute_result",
          "data": {
            "text/plain": [
              "1    5577\n",
              "0    1083\n",
              "3     935\n",
              "2     928\n",
              "Name: Outlet_Type, dtype: int64"
            ]
          },
          "metadata": {
            "tags": []
          },
          "execution_count": 27
        }
      ]
    },
    {
      "cell_type": "markdown",
      "metadata": {
        "id": "UOrLcIT3L-Gc",
        "colab_type": "text"
      },
      "source": [
        "Handling **Outlet_Establishment_Year**"
      ]
    },
    {
      "cell_type": "code",
      "metadata": {
        "id": "5FKPWPdKL-Gc",
        "colab_type": "code",
        "colab": {
          "base_uri": "https://localhost:8080/",
          "height": 187
        },
        "outputId": "9c676f6d-90b1-49c9-9e5e-792f81804152"
      },
      "source": [
        "data['Outlet_Establishment_Year'].value_counts()"
      ],
      "execution_count": 28,
      "outputs": [
        {
          "output_type": "execute_result",
          "data": {
            "text/plain": [
              "1985    1463\n",
              "1987     932\n",
              "1999     930\n",
              "1997     930\n",
              "2004     930\n",
              "2002     929\n",
              "2009     928\n",
              "2007     926\n",
              "1998     555\n",
              "Name: Outlet_Establishment_Year, dtype: int64"
            ]
          },
          "metadata": {
            "tags": []
          },
          "execution_count": 28
        }
      ]
    },
    {
      "cell_type": "code",
      "metadata": {
        "id": "iaR2gr2iL-Gf",
        "colab_type": "code",
        "colab": {
          "base_uri": "https://localhost:8080/",
          "height": 187
        },
        "outputId": "d034a393-b4a0-4994-b4f8-a13e142d0c4d"
      },
      "source": [
        "data['Outlet_Establishment_Year']= le_obj.fit_transform (data['Outlet_Establishment_Year'])\n",
        "data['Outlet_Establishment_Year'].value_counts()"
      ],
      "execution_count": 29,
      "outputs": [
        {
          "output_type": "execute_result",
          "data": {
            "text/plain": [
              "0    1463\n",
              "1     932\n",
              "6     930\n",
              "4     930\n",
              "2     930\n",
              "5     929\n",
              "8     928\n",
              "7     926\n",
              "3     555\n",
              "Name: Outlet_Establishment_Year, dtype: int64"
            ]
          },
          "metadata": {
            "tags": []
          },
          "execution_count": 29
        }
      ]
    },
    {
      "cell_type": "markdown",
      "metadata": {
        "id": "VDBEfdQqL-Gi",
        "colab_type": "text"
      },
      "source": [
        "#### Visualizing Processed data"
      ]
    },
    {
      "cell_type": "code",
      "metadata": {
        "id": "eVq6Oz-dL-Gn",
        "colab_type": "code",
        "colab": {
          "base_uri": "https://localhost:8080/",
          "height": 224
        },
        "outputId": "24810281-d298-4e03-bb37-458ef49813d2"
      },
      "source": [
        "data.head()"
      ],
      "execution_count": 32,
      "outputs": [
        {
          "output_type": "execute_result",
          "data": {
            "text/html": [
              "<div>\n",
              "<style scoped>\n",
              "    .dataframe tbody tr th:only-of-type {\n",
              "        vertical-align: middle;\n",
              "    }\n",
              "\n",
              "    .dataframe tbody tr th {\n",
              "        vertical-align: top;\n",
              "    }\n",
              "\n",
              "    .dataframe thead th {\n",
              "        text-align: right;\n",
              "    }\n",
              "</style>\n",
              "<table border=\"1\" class=\"dataframe\">\n",
              "  <thead>\n",
              "    <tr style=\"text-align: right;\">\n",
              "      <th></th>\n",
              "      <th>Item_Weight</th>\n",
              "      <th>Item_Fat_Content</th>\n",
              "      <th>Item_Visibility</th>\n",
              "      <th>Item_Type</th>\n",
              "      <th>Item_MRP</th>\n",
              "      <th>Outlet_Identifier</th>\n",
              "      <th>Outlet_Establishment_Year</th>\n",
              "      <th>Outlet_Size</th>\n",
              "      <th>Outlet_Location_Type</th>\n",
              "      <th>Outlet_Type</th>\n",
              "      <th>Item_Outlet_Sales</th>\n",
              "    </tr>\n",
              "  </thead>\n",
              "  <tbody>\n",
              "    <tr>\n",
              "      <th>0</th>\n",
              "      <td>9.30</td>\n",
              "      <td>0</td>\n",
              "      <td>0.016047</td>\n",
              "      <td>4</td>\n",
              "      <td>249.8092</td>\n",
              "      <td>9</td>\n",
              "      <td>4</td>\n",
              "      <td>1</td>\n",
              "      <td>0</td>\n",
              "      <td>1</td>\n",
              "      <td>3735.1380</td>\n",
              "    </tr>\n",
              "    <tr>\n",
              "      <th>1</th>\n",
              "      <td>5.92</td>\n",
              "      <td>1</td>\n",
              "      <td>0.019278</td>\n",
              "      <td>14</td>\n",
              "      <td>48.2692</td>\n",
              "      <td>3</td>\n",
              "      <td>8</td>\n",
              "      <td>1</td>\n",
              "      <td>2</td>\n",
              "      <td>2</td>\n",
              "      <td>443.4228</td>\n",
              "    </tr>\n",
              "    <tr>\n",
              "      <th>2</th>\n",
              "      <td>17.50</td>\n",
              "      <td>0</td>\n",
              "      <td>0.016760</td>\n",
              "      <td>10</td>\n",
              "      <td>141.6180</td>\n",
              "      <td>9</td>\n",
              "      <td>4</td>\n",
              "      <td>1</td>\n",
              "      <td>0</td>\n",
              "      <td>1</td>\n",
              "      <td>2097.2700</td>\n",
              "    </tr>\n",
              "    <tr>\n",
              "      <th>3</th>\n",
              "      <td>19.20</td>\n",
              "      <td>1</td>\n",
              "      <td>0.000000</td>\n",
              "      <td>6</td>\n",
              "      <td>182.0950</td>\n",
              "      <td>0</td>\n",
              "      <td>3</td>\n",
              "      <td>1</td>\n",
              "      <td>2</td>\n",
              "      <td>0</td>\n",
              "      <td>732.3800</td>\n",
              "    </tr>\n",
              "    <tr>\n",
              "      <th>4</th>\n",
              "      <td>8.93</td>\n",
              "      <td>0</td>\n",
              "      <td>0.000000</td>\n",
              "      <td>9</td>\n",
              "      <td>53.8614</td>\n",
              "      <td>1</td>\n",
              "      <td>1</td>\n",
              "      <td>0</td>\n",
              "      <td>2</td>\n",
              "      <td>1</td>\n",
              "      <td>994.7052</td>\n",
              "    </tr>\n",
              "  </tbody>\n",
              "</table>\n",
              "</div>"
            ],
            "text/plain": [
              "   Item_Weight  Item_Fat_Content  ...  Outlet_Type  Item_Outlet_Sales\n",
              "0         9.30                 0  ...            1          3735.1380\n",
              "1         5.92                 1  ...            2           443.4228\n",
              "2        17.50                 0  ...            1          2097.2700\n",
              "3        19.20                 1  ...            0           732.3800\n",
              "4         8.93                 0  ...            1           994.7052\n",
              "\n",
              "[5 rows x 11 columns]"
            ]
          },
          "metadata": {
            "tags": []
          },
          "execution_count": 32
        }
      ]
    },
    {
      "cell_type": "code",
      "metadata": {
        "id": "qaBTkYo5L-Gr",
        "colab_type": "code",
        "colab": {
          "base_uri": "https://localhost:8080/",
          "height": 410
        },
        "outputId": "49280e62-9f8b-47d9-9f5d-1ef9a9755847"
      },
      "source": [
        "data.corr()"
      ],
      "execution_count": 33,
      "outputs": [
        {
          "output_type": "execute_result",
          "data": {
            "text/html": [
              "<div>\n",
              "<style scoped>\n",
              "    .dataframe tbody tr th:only-of-type {\n",
              "        vertical-align: middle;\n",
              "    }\n",
              "\n",
              "    .dataframe tbody tr th {\n",
              "        vertical-align: top;\n",
              "    }\n",
              "\n",
              "    .dataframe thead th {\n",
              "        text-align: right;\n",
              "    }\n",
              "</style>\n",
              "<table border=\"1\" class=\"dataframe\">\n",
              "  <thead>\n",
              "    <tr style=\"text-align: right;\">\n",
              "      <th></th>\n",
              "      <th>Item_Weight</th>\n",
              "      <th>Item_Fat_Content</th>\n",
              "      <th>Item_Visibility</th>\n",
              "      <th>Item_Type</th>\n",
              "      <th>Item_MRP</th>\n",
              "      <th>Outlet_Identifier</th>\n",
              "      <th>Outlet_Establishment_Year</th>\n",
              "      <th>Outlet_Size</th>\n",
              "      <th>Outlet_Location_Type</th>\n",
              "      <th>Outlet_Type</th>\n",
              "      <th>Item_Outlet_Sales</th>\n",
              "    </tr>\n",
              "  </thead>\n",
              "  <tbody>\n",
              "    <tr>\n",
              "      <th>Item_Weight</th>\n",
              "      <td>1.000000</td>\n",
              "      <td>-0.021157</td>\n",
              "      <td>-0.012049</td>\n",
              "      <td>0.028015</td>\n",
              "      <td>0.024756</td>\n",
              "      <td>-0.007975</td>\n",
              "      <td>-0.007489</td>\n",
              "      <td>-0.007225</td>\n",
              "      <td>0.004088</td>\n",
              "      <td>-0.000566</td>\n",
              "      <td>0.011550</td>\n",
              "    </tr>\n",
              "    <tr>\n",
              "      <th>Item_Fat_Content</th>\n",
              "      <td>-0.021157</td>\n",
              "      <td>1.000000</td>\n",
              "      <td>0.047314</td>\n",
              "      <td>-0.139434</td>\n",
              "      <td>0.006063</td>\n",
              "      <td>0.000764</td>\n",
              "      <td>0.002447</td>\n",
              "      <td>-0.000622</td>\n",
              "      <td>-0.001598</td>\n",
              "      <td>0.002199</td>\n",
              "      <td>0.018719</td>\n",
              "    </tr>\n",
              "    <tr>\n",
              "      <th>Item_Visibility</th>\n",
              "      <td>-0.012049</td>\n",
              "      <td>0.047314</td>\n",
              "      <td>1.000000</td>\n",
              "      <td>-0.035249</td>\n",
              "      <td>-0.001315</td>\n",
              "      <td>-0.100439</td>\n",
              "      <td>-0.082927</td>\n",
              "      <td>0.069309</td>\n",
              "      <td>-0.028099</td>\n",
              "      <td>-0.173468</td>\n",
              "      <td>-0.128625</td>\n",
              "    </tr>\n",
              "    <tr>\n",
              "      <th>Item_Type</th>\n",
              "      <td>0.028015</td>\n",
              "      <td>-0.139434</td>\n",
              "      <td>-0.035249</td>\n",
              "      <td>1.000000</td>\n",
              "      <td>0.032651</td>\n",
              "      <td>0.001656</td>\n",
              "      <td>0.006527</td>\n",
              "      <td>-0.001859</td>\n",
              "      <td>0.003084</td>\n",
              "      <td>0.003053</td>\n",
              "      <td>0.017048</td>\n",
              "    </tr>\n",
              "    <tr>\n",
              "      <th>Item_MRP</th>\n",
              "      <td>0.024756</td>\n",
              "      <td>0.006063</td>\n",
              "      <td>-0.001315</td>\n",
              "      <td>0.032651</td>\n",
              "      <td>1.000000</td>\n",
              "      <td>0.003319</td>\n",
              "      <td>0.004162</td>\n",
              "      <td>0.006059</td>\n",
              "      <td>0.000232</td>\n",
              "      <td>-0.001975</td>\n",
              "      <td>0.567574</td>\n",
              "    </tr>\n",
              "    <tr>\n",
              "      <th>Outlet_Identifier</th>\n",
              "      <td>-0.007975</td>\n",
              "      <td>0.000764</td>\n",
              "      <td>-0.100439</td>\n",
              "      <td>0.001656</td>\n",
              "      <td>0.003319</td>\n",
              "      <td>1.000000</td>\n",
              "      <td>-0.030969</td>\n",
              "      <td>0.504603</td>\n",
              "      <td>-0.716176</td>\n",
              "      <td>0.099873</td>\n",
              "      <td>0.162325</td>\n",
              "    </tr>\n",
              "    <tr>\n",
              "      <th>Outlet_Establishment_Year</th>\n",
              "      <td>-0.007489</td>\n",
              "      <td>0.002447</td>\n",
              "      <td>-0.082927</td>\n",
              "      <td>0.006527</td>\n",
              "      <td>0.004162</td>\n",
              "      <td>-0.030969</td>\n",
              "      <td>1.000000</td>\n",
              "      <td>0.070786</td>\n",
              "      <td>0.042005</td>\n",
              "      <td>-0.040040</td>\n",
              "      <td>-0.025525</td>\n",
              "    </tr>\n",
              "    <tr>\n",
              "      <th>Outlet_Size</th>\n",
              "      <td>-0.007225</td>\n",
              "      <td>-0.000622</td>\n",
              "      <td>0.069309</td>\n",
              "      <td>-0.001859</td>\n",
              "      <td>0.006059</td>\n",
              "      <td>0.504603</td>\n",
              "      <td>0.070786</td>\n",
              "      <td>1.000000</td>\n",
              "      <td>-0.614311</td>\n",
              "      <td>-0.201483</td>\n",
              "      <td>-0.086182</td>\n",
              "    </tr>\n",
              "    <tr>\n",
              "      <th>Outlet_Location_Type</th>\n",
              "      <td>0.004088</td>\n",
              "      <td>-0.001598</td>\n",
              "      <td>-0.028099</td>\n",
              "      <td>0.003084</td>\n",
              "      <td>0.000232</td>\n",
              "      <td>-0.716176</td>\n",
              "      <td>0.042005</td>\n",
              "      <td>-0.614311</td>\n",
              "      <td>1.000000</td>\n",
              "      <td>0.467219</td>\n",
              "      <td>0.089367</td>\n",
              "    </tr>\n",
              "    <tr>\n",
              "      <th>Outlet_Type</th>\n",
              "      <td>-0.000566</td>\n",
              "      <td>0.002199</td>\n",
              "      <td>-0.173468</td>\n",
              "      <td>0.003053</td>\n",
              "      <td>-0.001975</td>\n",
              "      <td>0.099873</td>\n",
              "      <td>-0.040040</td>\n",
              "      <td>-0.201483</td>\n",
              "      <td>0.467219</td>\n",
              "      <td>1.000000</td>\n",
              "      <td>0.401522</td>\n",
              "    </tr>\n",
              "    <tr>\n",
              "      <th>Item_Outlet_Sales</th>\n",
              "      <td>0.011550</td>\n",
              "      <td>0.018719</td>\n",
              "      <td>-0.128625</td>\n",
              "      <td>0.017048</td>\n",
              "      <td>0.567574</td>\n",
              "      <td>0.162325</td>\n",
              "      <td>-0.025525</td>\n",
              "      <td>-0.086182</td>\n",
              "      <td>0.089367</td>\n",
              "      <td>0.401522</td>\n",
              "      <td>1.000000</td>\n",
              "    </tr>\n",
              "  </tbody>\n",
              "</table>\n",
              "</div>"
            ],
            "text/plain": [
              "                           Item_Weight  ...  Item_Outlet_Sales\n",
              "Item_Weight                   1.000000  ...           0.011550\n",
              "Item_Fat_Content             -0.021157  ...           0.018719\n",
              "Item_Visibility              -0.012049  ...          -0.128625\n",
              "Item_Type                     0.028015  ...           0.017048\n",
              "Item_MRP                      0.024756  ...           0.567574\n",
              "Outlet_Identifier            -0.007975  ...           0.162325\n",
              "Outlet_Establishment_Year    -0.007489  ...          -0.025525\n",
              "Outlet_Size                  -0.007225  ...          -0.086182\n",
              "Outlet_Location_Type          0.004088  ...           0.089367\n",
              "Outlet_Type                  -0.000566  ...           0.401522\n",
              "Item_Outlet_Sales             0.011550  ...           1.000000\n",
              "\n",
              "[11 rows x 11 columns]"
            ]
          },
          "metadata": {
            "tags": []
          },
          "execution_count": 33
        }
      ]
    },
    {
      "cell_type": "markdown",
      "metadata": {
        "id": "ENLX9zJIL-Gt",
        "colab_type": "text"
      },
      "source": [
        "#### Preparing Input & Output Vector"
      ]
    },
    {
      "cell_type": "code",
      "metadata": {
        "id": "7XRNQXK8L-Gu",
        "colab_type": "code",
        "colab": {}
      },
      "source": [
        "X = data.drop('Item_Outlet_Sales', axis=1)\n",
        "y = data['Item_Outlet_Sales']"
      ],
      "execution_count": 34,
      "outputs": []
    },
    {
      "cell_type": "markdown",
      "metadata": {
        "id": "YBZZVTI5L-Gx",
        "colab_type": "text"
      },
      "source": [
        "#### Test - Train Split of input dataset"
      ]
    },
    {
      "cell_type": "code",
      "metadata": {
        "id": "EBi8fAD4L-Gx",
        "colab_type": "code",
        "colab": {
          "base_uri": "https://localhost:8080/",
          "height": 51
        },
        "outputId": "9c53e750-6560-4dfb-f2a6-0f4dbb392562"
      },
      "source": [
        "x_train, x_test, y_train, y_test = train_test_split(X, y, test_size=0.3)\n",
        "print('Training data shape', x_train.shape)\n",
        "print('Testing data shape', x_test.shape)"
      ],
      "execution_count": 35,
      "outputs": [
        {
          "output_type": "stream",
          "text": [
            "Training data shape (5966, 10)\n",
            "Testing data shape (2557, 10)\n"
          ],
          "name": "stdout"
        }
      ]
    },
    {
      "cell_type": "markdown",
      "metadata": {
        "id": "QUvi3eIJL-G0",
        "colab_type": "text"
      },
      "source": [
        "### 2) Build Model"
      ]
    },
    {
      "cell_type": "code",
      "metadata": {
        "id": "w9GZCVLfL-G0",
        "colab_type": "code",
        "colab": {}
      },
      "source": [
        "model = keras.models.Sequential()\n",
        "\n",
        "model.add(keras.layers.normalization.BatchNormalization())\n",
        "\n",
        "# add input layer\n",
        "model.add(keras.layers.Dense(units=100, input_dim=x_train.shape[1], activation='relu'))\n",
        "\n",
        "# add hidden layer\n",
        "model.add(keras.layers.Dense(units=50, input_dim=100, activation='relu'))\n",
        "\n",
        "# add output layer\n",
        "model.add(keras.layers.Dense(units=1, input_dim=50, activation='relu'))"
      ],
      "execution_count": 36,
      "outputs": []
    },
    {
      "cell_type": "markdown",
      "metadata": {
        "id": "qgqkHnvTL-G3",
        "colab_type": "text"
      },
      "source": [
        "#### Custom Loss function for regression"
      ]
    },
    {
      "cell_type": "code",
      "metadata": {
        "id": "rJPNzgTvL-G3",
        "colab_type": "code",
        "colab": {}
      },
      "source": [
        "def rmse(y_true, y_pred):\n",
        "    return keras.backend.sqrt(keras.backend.mean(keras.backend.square(y_pred - y_true), axis=-1))"
      ],
      "execution_count": 37,
      "outputs": []
    },
    {
      "cell_type": "code",
      "metadata": {
        "id": "OzEr_a97L-G6",
        "colab_type": "code",
        "colab": {}
      },
      "source": [
        "def mse(y_true, y_pred):\n",
        "    return keras.backend.mean(keras.backend.square(y_pred - y_true), axis=-1)"
      ],
      "execution_count": 38,
      "outputs": []
    },
    {
      "cell_type": "code",
      "metadata": {
        "id": "nNb1Mq1gL-G9",
        "colab_type": "code",
        "colab": {}
      },
      "source": [
        "def r_2(y_true, y_pred):\n",
        "    SS_res = keras.backend.sum(keras.backend.square(y_true - y_pred))\n",
        "    SS_tot = keras.backend.sum(keras.backend.square(y_true - keras.backend.mean(y_true)))\n",
        "    return 1 - (1 - SS_res/(SS_tot - keras.backend.epsilon()))"
      ],
      "execution_count": 39,
      "outputs": []
    },
    {
      "cell_type": "markdown",
      "metadata": {
        "id": "gzkkcY1RL-HA",
        "colab_type": "text"
      },
      "source": [
        "### 3) Testing the model and Visualizing the model performance"
      ]
    },
    {
      "cell_type": "markdown",
      "metadata": {
        "id": "aR8yUlTIL-HA",
        "colab_type": "text"
      },
      "source": [
        "#### Model 1 - Learning rate = 0.001"
      ]
    },
    {
      "cell_type": "code",
      "metadata": {
        "id": "IaVK4F4XL-HB",
        "colab_type": "code",
        "colab": {}
      },
      "source": [
        "model.compile(optimizer=keras.optimizers.SGD(lr=0.001),\n",
        "              loss=\"mean_squared_error\",\n",
        "              metrics=[\"mean_squared_error\", rmse, r_2])\n",
        "early_stop = keras.callbacks.EarlyStopping(monitor=\"mean_squared_error\", patience=40, verbose=False, mode='auto')\n",
        "result = model.fit(x_train, y_train, epochs=300, batch_size=1024, \n",
        "                   validation_data=(x_test, y_test), callbacks=[early_stop], verbose=False);"
      ],
      "execution_count": 42,
      "outputs": []
    },
    {
      "cell_type": "code",
      "metadata": {
        "id": "8-YMT64zL-HE",
        "colab_type": "code",
        "colab": {}
      },
      "source": [
        "y_pred = model.predict(x_test)"
      ],
      "execution_count": 43,
      "outputs": []
    },
    {
      "cell_type": "code",
      "metadata": {
        "id": "Vp6aNfd6L-HI",
        "colab_type": "code",
        "colab": {
          "base_uri": "https://localhost:8080/",
          "height": 295
        },
        "outputId": "dac2990f-5a70-472d-8a66-a7e6a1c9f7c9"
      },
      "source": [
        "plt.plot(result.history['val_r_2'])\n",
        "plt.plot(result.history['r_2'])\n",
        "plt.title('model R^2')\n",
        "plt.xlabel('epoch')\n",
        "plt.ylabel('R^2')\n",
        "plt.legend(['train', 'test'], loc='upper left')\n",
        "plt.show()"
      ],
      "execution_count": 44,
      "outputs": [
        {
          "output_type": "display_data",
          "data": {
            "image/png": "[encoded data removed]",
            "text/plain": [
              "<Figure size 432x288 with 1 Axes>"
            ]
          },
          "metadata": {
            "tags": [],
            "needs_background": "light"
          }
        }
      ]
    },
    {
      "cell_type": "code",
      "metadata": {
        "scrolled": true,
        "id": "bDg_7nwgL-HO",
        "colab_type": "code",
        "colab": {
          "base_uri": "https://localhost:8080/",
          "height": 295
        },
        "outputId": "81bc2888-619a-4268-e9c1-ecfe25d01576"
      },
      "source": [
        "plt.plot(result.history['rmse'])\n",
        "plt.plot(result.history['val_rmse'])\n",
        "plt.title('rmse')\n",
        "plt.xlabel('epoch')\n",
        "plt.ylabel('rmse')\n",
        "plt.legend(['train', 'test'], loc='upper left')\n",
        "plt.show()"
      ],
      "execution_count": 45,
      "outputs": [
        {
          "output_type": "display_data",
          "data": {
            "image/png": "[encoded data removed]",
            "text/plain": [
              "<Figure size 432x288 with 1 Axes>"
            ]
          },
          "metadata": {
            "tags": [],
            "needs_background": "light"
          }
        }
      ]
    },
    {
      "cell_type": "code",
      "metadata": {
        "id": "Ofh9kTOcL-HS",
        "colab_type": "code",
        "colab": {}
      },
      "source": [
        "regressor = LinearRegression()\n",
        "regressor.fit(y_test.values.reshape(-1, 1), y_pred)\n",
        "y_fit = regressor.predict(y_pred)"
      ],
      "execution_count": 46,
      "outputs": []
    },
    {
      "cell_type": "code",
      "metadata": {
        "scrolled": true,
        "id": "BQb0uFMeL-HU",
        "colab_type": "code",
        "colab": {
          "base_uri": "https://localhost:8080/",
          "height": 295
        },
        "outputId": "68e28739-3f7f-434a-965c-d4deb0589b02"
      },
      "source": [
        "plt.scatter(y_test, y_pred, color='blue', label='data')\n",
        "plt.plot(y_pred, y_fit, color='red', linewidth=2, label='Linear Regression')\n",
        "plt.title('Linear Regressor')\n",
        "plt.legend()\n",
        "plt.xlabel('observed')\n",
        "plt.ylabel('predicted')\n",
        "plt.show()"
      ],
      "execution_count": 47,
      "outputs": [
        {
          "output_type": "display_data",
          "data": {
            "image/png": "[encoded data removed]",
            "text/plain": [
              "<Figure size 432x288 with 1 Axes>"
            ]
          },
          "metadata": {
            "tags": [],
            "needs_background": "light"
          }
        }
      ]
    },
    {
      "cell_type": "code",
      "metadata": {
        "id": "4zpycgq2L-HZ",
        "colab_type": "code",
        "colab": {
          "base_uri": "https://localhost:8080/",
          "height": 68
        },
        "outputId": "253c70c2-b56e-4c31-a92b-d67b3c99318e"
      },
      "source": [
        "print(\"Mean Absolute Error (MAE): %f\" % sklearn.metrics.mean_absolute_error(y_test, y_pred))\n",
        "print(\"Root Mean Squared Error (RMSE): %f\" % math.sqrt(sklearn.metrics.mean_squared_error(y_test, y_pred)))\n",
        "print(\"R square (R^2): %f\" % sklearn.metrics.r2_score(y_test, y_pred))"
      ],
      "execution_count": 48,
      "outputs": [
        {
          "output_type": "stream",
          "text": [
            "Mean Absolute Error (MAE): 2167.523747\n",
            "Root Mean Squared Error (RMSE): 2752.204846\n",
            "R square (R^2): -1.633306\n"
          ],
          "name": "stdout"
        }
      ]
    },
    {
      "cell_type": "markdown",
      "metadata": {
        "id": "x_gQPEa_L-He",
        "colab_type": "text"
      },
      "source": [
        "#### Model 2 - Learning rate = 0.01"
      ]
    },
    {
      "cell_type": "code",
      "metadata": {
        "id": "su5pOtFAL-He",
        "colab_type": "code",
        "colab": {}
      },
      "source": [
        "model.compile(optimizer=keras.optimizers.SGD(lr=0.01),\n",
        "              loss=\"mean_squared_error\",\n",
        "              metrics=[\"mean_squared_error\", rmse, r_2])\n",
        "early_stop = keras.callbacks.EarlyStopping(monitor=\"mean_squared_error\", patience=40, verbose=False, mode='auto')\n",
        "result = model.fit(x_train, y_train, epochs=300, batch_size=1024,\n",
        "                   validation_data=(x_test, y_test), callbacks=[early_stop], verbose=False);"
      ],
      "execution_count": 56,
      "outputs": []
    },
    {
      "cell_type": "code",
      "metadata": {
        "id": "2GxwXAfAL-Hi",
        "colab_type": "code",
        "colab": {}
      },
      "source": [
        "y_pred = model.predict(x_test)"
      ],
      "execution_count": 57,
      "outputs": []
    },
    {
      "cell_type": "code",
      "metadata": {
        "id": "t4yuWUAgL-Hl",
        "colab_type": "code",
        "colab": {
          "base_uri": "https://localhost:8080/",
          "height": 295
        },
        "outputId": "fe54622b-0c2e-4dfc-bda0-09efe1ef4276"
      },
      "source": [
        "plt.plot(result.history['val_r_2'])\n",
        "plt.plot(result.history['r_2'])\n",
        "plt.title('model R^2')\n",
        "plt.xlabel('epoch')\n",
        "plt.ylabel('R^2')\n",
        "plt.legend(['train', 'test'], loc='upper left')\n",
        "plt.show()"
      ],
      "execution_count": 58,
      "outputs": [
        {
          "output_type": "display_data",
          "data": {
            "image/png": "[encoded data removed]",
            "text/plain": [
              "<Figure size 432x288 with 1 Axes>"
            ]
          },
          "metadata": {
            "tags": [],
            "needs_background": "light"
          }
        }
      ]
    },
    {
      "cell_type": "code",
      "metadata": {
        "scrolled": true,
        "id": "Qej2iqWVL-Hp",
        "colab_type": "code",
        "colab": {
          "base_uri": "https://localhost:8080/",
          "height": 295
        },
        "outputId": "2fed3a12-82f2-4948-87ee-079f260c986f"
      },
      "source": [
        "plt.plot(result.history['rmse'])\n",
        "plt.plot(result.history['val_rmse'])\n",
        "plt.title('rmse')\n",
        "plt.xlabel('epoch')\n",
        "plt.ylabel('rmse')\n",
        "plt.legend(['train', 'test'], loc='upper left')\n",
        "plt.show()"
      ],
      "execution_count": 59,
      "outputs": [
        {
          "output_type": "display_data",
          "data": {
            "image/png": "[encoded data removed]",
            "text/plain": [
              "<Figure size 432x288 with 1 Axes>"
            ]
          },
          "metadata": {
            "tags": [],
            "needs_background": "light"
          }
        }
      ]
    },
    {
      "cell_type": "code",
      "metadata": {
        "id": "Tn-F_kXWL-Hu",
        "colab_type": "code",
        "colab": {}
      },
      "source": [
        "regressor = LinearRegression()\n",
        "regressor.fit(y_test.values.reshape(-1, 1), y_pred)\n",
        "y_fit = regressor.predict(y_pred)"
      ],
      "execution_count": 61,
      "outputs": []
    },
    {
      "cell_type": "code",
      "metadata": {
        "id": "jo7RBbJtL-Hy",
        "colab_type": "code",
        "colab": {
          "base_uri": "https://localhost:8080/",
          "height": 295
        },
        "outputId": "103666c4-d416-44af-b6c5-720f2e4a08f2"
      },
      "source": [
        "plt.scatter(y_test, y_pred, color='blue', label='data')\n",
        "plt.plot(y_pred, y_fit, color='red', linewidth=2, label='Linear Regression')\n",
        "plt.title('Linear Regressor')\n",
        "plt.legend()\n",
        "plt.xlabel('observed')\n",
        "plt.ylabel('predicted')\n",
        "plt.show()"
      ],
      "execution_count": 62,
      "outputs": [
        {
          "output_type": "display_data",
          "data": {
            "image/png": "[encoded data removed]",
            "text/plain": [
              "<Figure size 432x288 with 1 Axes>"
            ]
          },
          "metadata": {
            "tags": [],
            "needs_background": "light"
          }
        }
      ]
    },
    {
      "cell_type": "code",
      "metadata": {
        "scrolled": true,
        "id": "g6PbTIpuL-H3",
        "colab_type": "code",
        "colab": {
          "base_uri": "https://localhost:8080/",
          "height": 68
        },
        "outputId": "e3f5fa5c-cbf9-429d-d273-f68069c6f3d0"
      },
      "source": [
        "print(\"Mean Absolute Error (MAE): %f\" % sklearn.metrics.mean_absolute_error(y_test, y_pred))\n",
        "print(\"Root Mean Squared Error (RMSE): %f\" % math.sqrt(sklearn.metrics.mean_squared_error(y_test, y_pred)))\n",
        "print(\"R square (R^2): %f\" % sklearn.metrics.r2_score(y_test, y_pred))"
      ],
      "execution_count": 63,
      "outputs": [
        {
          "output_type": "stream",
          "text": [
            "Mean Absolute Error (MAE): 2167.523747\n",
            "Root Mean Squared Error (RMSE): 2752.204846\n",
            "R square (R^2): -1.633306\n"
          ],
          "name": "stdout"
        }
      ]
    },
    {
      "cell_type": "markdown",
      "metadata": {
        "id": "RhE4upXJL-IC",
        "colab_type": "text"
      },
      "source": [
        "### 4) Trying Different Activation function"
      ]
    },
    {
      "cell_type": "markdown",
      "metadata": {
        "id": "7YskF06cL-IC",
        "colab_type": "text"
      },
      "source": [
        "#### Using tanh for hidden layers"
      ]
    },
    {
      "cell_type": "code",
      "metadata": {
        "id": "pjg__16wL-ID",
        "colab_type": "code",
        "colab": {}
      },
      "source": [
        "model = keras.models.Sequential()\n",
        "\n",
        "model.add(keras.layers.normalization.BatchNormalization())\n",
        "\n",
        "# add input layer\n",
        "model.add(keras.layers.Dense(units=100, input_dim=x_train.shape[1], activation='tanh'))\n",
        "\n",
        "# add hidden layer\n",
        "model.add(keras.layers.Dense(units=50, input_dim=100, activation='tanh'))\n",
        "\n",
        "# add output layer\n",
        "model.add(keras.layers.Dense(units=1, input_dim=50, activation='relu'))"
      ],
      "execution_count": 64,
      "outputs": []
    },
    {
      "cell_type": "code",
      "metadata": {
        "id": "1kMuRkWVL-IJ",
        "colab_type": "code",
        "colab": {
          "base_uri": "https://localhost:8080/",
          "height": 139
        },
        "outputId": "f8ea7d23-2ecb-434a-e7ce-223b09d50e87"
      },
      "source": [
        "model.compile(optimizer=keras.optimizers.SGD(lr=0.001),\n",
        "              loss=\"mean_squared_error\",\n",
        "              metrics=[\"mean_squared_error\", rmse, r_2])\n",
        "early_stop = keras.callbacks.EarlyStopping(monitor=\"mean_squared_error\", patience=40, verbose=False, mode='auto')\n",
        "result = model.fit(x_train, y_train, epochs=300, batch_size=1024, \n",
        "                   validation_data=(x_test, y_test), callbacks=[early_stop], verbose=False);"
      ],
      "execution_count": 65,
      "outputs": [
        {
          "output_type": "stream",
          "text": [
            "WARNING:tensorflow:Layer batch_normalization_1 is casting an input tensor from dtype float64 to the layer's dtype of float32, which is new behavior in TensorFlow 2.  The layer has dtype float32 because its dtype defaults to floatx.\n",
            "\n",
            "If you intended to run this layer in float32, you can safely ignore this warning. If in doubt, this warning is likely only an issue if you are porting a TensorFlow 1.X model to TensorFlow 2.\n",
            "\n",
            "To change all layers to have dtype float64 by default, call `tf.keras.backend.set_floatx('float64')`. To change just this layer, pass dtype='float64' to the layer constructor. If you are the author of this layer, you can disable autocasting by passing autocast=False to the base Layer constructor.\n",
            "\n"
          ],
          "name": "stdout"
        }
      ]
    },
    {
      "cell_type": "code",
      "metadata": {
        "id": "KKfkgqjsL-IP",
        "colab_type": "code",
        "colab": {}
      },
      "source": [
        "y_pred = model.predict(x_test)"
      ],
      "execution_count": 66,
      "outputs": []
    },
    {
      "cell_type": "code",
      "metadata": {
        "id": "Nq99hA4WL-IV",
        "colab_type": "code",
        "colab": {
          "base_uri": "https://localhost:8080/",
          "height": 295
        },
        "outputId": "7d5b681d-869a-437b-d0a0-611d75eeec47"
      },
      "source": [
        "plt.plot(result.history['val_r_2'])\n",
        "plt.plot(result.history['r_2'])\n",
        "plt.title('model R^2')\n",
        "plt.xlabel('epoch')\n",
        "plt.ylabel('R^2')\n",
        "plt.legend(['train', 'test'], loc='upper left')\n",
        "plt.show()"
      ],
      "execution_count": 68,
      "outputs": [
        {
          "output_type": "display_data",
          "data": {
            "image/png": "[encoded data removed]",
            "text/plain": [
              "<Figure size 432x288 with 1 Axes>"
            ]
          },
          "metadata": {
            "tags": [],
            "needs_background": "light"
          }
        }
      ]
    },
    {
      "cell_type": "code",
      "metadata": {
        "scrolled": true,
        "id": "GwU995rrL-IY",
        "colab_type": "code",
        "colab": {
          "base_uri": "https://localhost:8080/",
          "height": 295
        },
        "outputId": "3d000ee5-2bdf-4d08-8274-61831d175203"
      },
      "source": [
        "plt.plot(result.history['rmse'])\n",
        "plt.plot(result.history['val_rmse'])\n",
        "plt.title('rmse')\n",
        "plt.xlabel('epoch')\n",
        "plt.ylabel('rmse')\n",
        "plt.legend(['train', 'test'], loc='upper left')\n",
        "plt.show()"
      ],
      "execution_count": 69,
      "outputs": [
        {
          "output_type": "display_data",
          "data": {
            "image/png": "[encoded data removed]",
            "text/plain": [
              "<Figure size 432x288 with 1 Axes>"
            ]
          },
          "metadata": {
            "tags": [],
            "needs_background": "light"
          }
        }
      ]
    },
    {
      "cell_type": "code",
      "metadata": {
        "id": "vujedEOhL-Ib",
        "colab_type": "code",
        "colab": {}
      },
      "source": [
        "regressor = LinearRegression()\n",
        "regressor.fit(y_test.values.reshape(-1, 1), y_pred)\n",
        "y_fit = regressor.predict(y_pred)"
      ],
      "execution_count": 70,
      "outputs": []
    },
    {
      "cell_type": "code",
      "metadata": {
        "id": "QeK24DzYL-Ig",
        "colab_type": "code",
        "colab": {
          "base_uri": "https://localhost:8080/",
          "height": 295
        },
        "outputId": "0ffb2c15-46cf-4748-f17f-751f72f7d245"
      },
      "source": [
        "plt.scatter(y_test, y_pred, color='blue', label='data')\n",
        "plt.plot(y_pred, y_fit, color='red', linewidth=2, label='Linear Regression')\n",
        "plt.title('Linear Regressor')\n",
        "plt.legend()\n",
        "plt.xlabel('observed')\n",
        "plt.ylabel('predicted')\n",
        "plt.show()"
      ],
      "execution_count": 71,
      "outputs": [
        {
          "output_type": "display_data",
          "data": {
            "image/png": "[encoded data removed]",
            "text/plain": [
              "<Figure size 432x288 with 1 Axes>"
            ]
          },
          "metadata": {
            "tags": [],
            "needs_background": "light"
          }
        }
      ]
    },
    {
      "cell_type": "code",
      "metadata": {
        "id": "YyhMhkWlL-Ik",
        "colab_type": "code",
        "colab": {
          "base_uri": "https://localhost:8080/",
          "height": 68
        },
        "outputId": "e57faa24-029e-49aa-c026-b3af7b8588a2"
      },
      "source": [
        "print(\"Mean Absolute Error (MAE): %f\" % sklearn.metrics.mean_absolute_error(y_test, y_pred))\n",
        "print(\"Root Mean Squared Error (RMSE): %f\" % math.sqrt(sklearn.metrics.mean_squared_error(y_test, y_pred)))\n",
        "print(\"R square (R^2): %f\" % sklearn.metrics.r2_score(y_test, y_pred))"
      ],
      "execution_count": 72,
      "outputs": [
        {
          "output_type": "stream",
          "text": [
            "Mean Absolute Error (MAE): 1210.942370\n",
            "Root Mean Squared Error (RMSE): 1547.495208\n",
            "R square (R^2): 0.167473\n"
          ],
          "name": "stdout"
        }
      ]
    },
    {
      "cell_type": "markdown",
      "metadata": {
        "id": "BIctHuVcL-Io",
        "colab_type": "text"
      },
      "source": [
        "#### Using elu for hidden layers"
      ]
    },
    {
      "cell_type": "markdown",
      "metadata": {
        "id": "5mPeM9ggL-Io",
        "colab_type": "text"
      },
      "source": [
        "**Exponential Linear Unit**<br>\n",
        "\n",
        "The exponential linear unit (ELU) with alpha > 0 is: x if x > 0 and<br>\n",
        "alpha * (exp(x) - 1) if x < 0 <br>\n",
        "The ELU hyperparameter alpha controls the value to which an ELU saturates for negative net inputs. ELUs diminish the vanishing gradient effect."
      ]
    },
    {
      "cell_type": "code",
      "metadata": {
        "id": "KDFCIFYrL-Ip",
        "colab_type": "code",
        "colab": {}
      },
      "source": [
        "model = keras.models.Sequential()\n",
        "\n",
        "model.add(keras.layers.normalization.BatchNormalization())\n",
        "\n",
        "# add input layer\n",
        "model.add(keras.layers.Dense(units=100, input_dim=x_train.shape[1], activation='elu'))\n",
        "\n",
        "# add hidden layer\n",
        "model.add(keras.layers.Dense(units=50, input_dim=100, activation='elu'))\n",
        "\n",
        "# add output layer\n",
        "model.add(keras.layers.Dense(units=1, input_dim=50, activation='elu'))"
      ],
      "execution_count": 73,
      "outputs": []
    },
    {
      "cell_type": "code",
      "metadata": {
        "id": "g1wYc7RRL-Is",
        "colab_type": "code",
        "colab": {
          "base_uri": "https://localhost:8080/",
          "height": 139
        },
        "outputId": "6daccf3d-c019-4006-f35a-aa4340286eda"
      },
      "source": [
        "model.compile(optimizer=keras.optimizers.SGD(lr=0.001),\n",
        "              loss=\"mean_squared_error\",\n",
        "              metrics=[\"mean_squared_error\", rmse, r_2])\n",
        "early_stop = keras.callbacks.EarlyStopping(monitor=\"mean_squared_error\", patience=40, verbose=False, mode='auto')\n",
        "result = model.fit(x_train, y_train, epochs=300, batch_size=1024, \n",
        "                   validation_data=(x_test, y_test), callbacks=[early_stop], verbose=False);"
      ],
      "execution_count": 74,
      "outputs": [
        {
          "output_type": "stream",
          "text": [
            "WARNING:tensorflow:Layer batch_normalization_2 is casting an input tensor from dtype float64 to the layer's dtype of float32, which is new behavior in TensorFlow 2.  The layer has dtype float32 because its dtype defaults to floatx.\n",
            "\n",
            "If you intended to run this layer in float32, you can safely ignore this warning. If in doubt, this warning is likely only an issue if you are porting a TensorFlow 1.X model to TensorFlow 2.\n",
            "\n",
            "To change all layers to have dtype float64 by default, call `tf.keras.backend.set_floatx('float64')`. To change just this layer, pass dtype='float64' to the layer constructor. If you are the author of this layer, you can disable autocasting by passing autocast=False to the base Layer constructor.\n",
            "\n"
          ],
          "name": "stdout"
        }
      ]
    },
    {
      "cell_type": "code",
      "metadata": {
        "id": "2CORAcs_L-Iv",
        "colab_type": "code",
        "colab": {}
      },
      "source": [
        "y_pred = model.predict(x_test)"
      ],
      "execution_count": 75,
      "outputs": []
    },
    {
      "cell_type": "code",
      "metadata": {
        "id": "FxImvgquL-Iy",
        "colab_type": "code",
        "colab": {
          "base_uri": "https://localhost:8080/",
          "height": 295
        },
        "outputId": "d322be25-8259-4cd2-c28b-89696fc09a79"
      },
      "source": [
        "plt.plot(result.history['val_r_2'])\n",
        "plt.plot(result.history['r_2'])\n",
        "plt.title('model R^2')\n",
        "plt.xlabel('epoch')\n",
        "plt.ylabel('R^2')\n",
        "plt.legend(['train', 'test'], loc='upper left')\n",
        "plt.show()"
      ],
      "execution_count": 76,
      "outputs": [
        {
          "output_type": "display_data",
          "data": {
            "image/png": "[encoded data removed]",
            "text/plain": [
              "<Figure size 432x288 with 1 Axes>"
            ]
          },
          "metadata": {
            "tags": [],
            "needs_background": "light"
          }
        }
      ]
    },
    {
      "cell_type": "code",
      "metadata": {
        "scrolled": true,
        "id": "cppOJ3DBL-I1",
        "colab_type": "code",
        "colab": {
          "base_uri": "https://localhost:8080/",
          "height": 295
        },
        "outputId": "a327f17d-5be6-4ae1-fde7-8263947fb9c1"
      },
      "source": [
        "plt.plot(result.history['rmse'])\n",
        "plt.plot(result.history['val_rmse'])\n",
        "plt.title('rmse')\n",
        "plt.xlabel('epoch')\n",
        "plt.ylabel('rmse')\n",
        "plt.legend(['train', 'test'], loc='upper left')\n",
        "plt.show()"
      ],
      "execution_count": 77,
      "outputs": [
        {
          "output_type": "display_data",
          "data": {
            "image/png": "[encoded data removed]",
            "text/plain": [
              "<Figure size 432x288 with 1 Axes>"
            ]
          },
          "metadata": {
            "tags": [],
            "needs_background": "light"
          }
        }
      ]
    },
    {
      "cell_type": "code",
      "metadata": {
        "id": "RYAlmmSQL-I3",
        "colab_type": "code",
        "colab": {}
      },
      "source": [
        "regressor = LinearRegression()\n",
        "regressor.fit(y_test.values.reshape(-1, 1), y_pred)\n",
        "y_fit = regressor.predict(y_pred)"
      ],
      "execution_count": 78,
      "outputs": []
    },
    {
      "cell_type": "code",
      "metadata": {
        "id": "zbLAGEQIL-I6",
        "colab_type": "code",
        "colab": {
          "base_uri": "https://localhost:8080/",
          "height": 295
        },
        "outputId": "d96320ec-1ab2-43c2-96bc-f3408621d8c5"
      },
      "source": [
        "plt.scatter(y_test, y_pred, color='blue', label='data')\n",
        "plt.plot(y_pred, y_fit, color='red', linewidth=2, label='Linear Regression')\n",
        "plt.title('Linear Regressor')\n",
        "plt.legend()\n",
        "plt.xlabel('observed')\n",
        "plt.ylabel('predicted')\n",
        "plt.show()"
      ],
      "execution_count": 79,
      "outputs": [
        {
          "output_type": "display_data",
          "data": {
            "image/png": "[encoded data removed]",
            "text/plain": [
              "<Figure size 432x288 with 1 Axes>"
            ]
          },
          "metadata": {
            "tags": [],
            "needs_background": "light"
          }
        }
      ]
    },
    {
      "cell_type": "code",
      "metadata": {
        "id": "q4yu9Q_KL-I8",
        "colab_type": "code",
        "colab": {
          "base_uri": "https://localhost:8080/",
          "height": 68
        },
        "outputId": "e107d446-7272-4321-a243-c53e360e5f97"
      },
      "source": [
        "print(\"Mean Absolute Error (MAE): %f\" % sklearn.metrics.mean_absolute_error(y_test, y_pred))\n",
        "print(\"Root Mean Squared Error (RMSE): %f\" % math.sqrt(sklearn.metrics.mean_squared_error(y_test, y_pred)))\n",
        "print(\"R square (R^2): %f\" % sklearn.metrics.r2_score(y_test, y_pred))"
      ],
      "execution_count": 80,
      "outputs": [
        {
          "output_type": "stream",
          "text": [
            "Mean Absolute Error (MAE): 2168.523747\n",
            "Root Mean Squared Error (RMSE): 2752.992474\n",
            "R square (R^2): -1.634813\n"
          ],
          "name": "stdout"
        }
      ]
    },
    {
      "cell_type": "markdown",
      "metadata": {
        "id": "Kda36O9_L-I_",
        "colab_type": "text"
      },
      "source": [
        "#### Using selu for hidden layers"
      ]
    },
    {
      "cell_type": "markdown",
      "metadata": {
        "id": "0VGo3VYiL-JA",
        "colab_type": "text"
      },
      "source": [
        "**Scaled Exponential Linear Unit (SELU)**<br>\n",
        "\n",
        "The Scaled Exponential Linear Unit (SELU) activation function is defined as:<br>\n",
        "\n",
        "if x > 0: return scale * x<br>\n",
        "if x < 0: return scale * alpha * (exp(x) - 1)<br>\n",
        "where alpha and scale are pre-defined constants (alpha=1.67326324 and scale=1.05070098)."
      ]
    },
    {
      "cell_type": "code",
      "metadata": {
        "id": "XsytVCqYL-JA",
        "colab_type": "code",
        "colab": {}
      },
      "source": [
        "model = keras.models.Sequential()\n",
        "\n",
        "model.add(keras.layers.normalization.BatchNormalization())\n",
        "\n",
        "# add input layer\n",
        "model.add(keras.layers.Dense(units=100, input_dim=x_train.shape[1], activation='selu'))\n",
        "\n",
        "# add hidden layer\n",
        "model.add(keras.layers.Dense(units=50, input_dim=100, activation='selu'))\n",
        "\n",
        "# add output layer\n",
        "model.add(keras.layers.Dense(units=1, input_dim=50, activation='selu'))"
      ],
      "execution_count": 89,
      "outputs": []
    },
    {
      "cell_type": "code",
      "metadata": {
        "id": "IPAaJur_L-JF",
        "colab_type": "code",
        "colab": {
          "base_uri": "https://localhost:8080/",
          "height": 139
        },
        "outputId": "ea5fabba-d6a4-4a3f-c06d-6d19e42a4f40"
      },
      "source": [
        "model.compile(optimizer=keras.optimizers.SGD(lr=0.001),\n",
        "              loss=\"mean_squared_error\",\n",
        "              metrics=[\"mean_squared_error\", rmse, r_2])\n",
        "early_stop = keras.callbacks.EarlyStopping(monitor=\"mean_squared_error\", patience=40, verbose=False, mode='auto')\n",
        "result = model.fit(x_train, y_train, epochs=300, batch_size=1024, \n",
        "                   validation_data=(x_test, y_test), callbacks=[early_stop], verbose=False);"
      ],
      "execution_count": 90,
      "outputs": [
        {
          "output_type": "stream",
          "text": [
            "WARNING:tensorflow:Layer batch_normalization_4 is casting an input tensor from dtype float64 to the layer's dtype of float32, which is new behavior in TensorFlow 2.  The layer has dtype float32 because its dtype defaults to floatx.\n",
            "\n",
            "If you intended to run this layer in float32, you can safely ignore this warning. If in doubt, this warning is likely only an issue if you are porting a TensorFlow 1.X model to TensorFlow 2.\n",
            "\n",
            "To change all layers to have dtype float64 by default, call `tf.keras.backend.set_floatx('float64')`. To change just this layer, pass dtype='float64' to the layer constructor. If you are the author of this layer, you can disable autocasting by passing autocast=False to the base Layer constructor.\n",
            "\n"
          ],
          "name": "stdout"
        }
      ]
    },
    {
      "cell_type": "code",
      "metadata": {
        "id": "cbcIw84tL-JI",
        "colab_type": "code",
        "colab": {}
      },
      "source": [
        "y_pred = model.predict(x_test)"
      ],
      "execution_count": 91,
      "outputs": []
    },
    {
      "cell_type": "code",
      "metadata": {
        "id": "Zn13l836L-JL",
        "colab_type": "code",
        "colab": {
          "base_uri": "https://localhost:8080/",
          "height": 295
        },
        "outputId": "dac3c043-641e-4ef3-d6c9-ae61a359e3c3"
      },
      "source": [
        "plt.plot(result.history['val_r_2'])\n",
        "plt.plot(result.history['r_2'])\n",
        "plt.title('model R^2')\n",
        "plt.xlabel('epoch')\n",
        "plt.ylabel('R^2')\n",
        "plt.legend(['train', 'test'], loc='upper left')\n",
        "plt.show()"
      ],
      "execution_count": 92,
      "outputs": [
        {
          "output_type": "display_data",
          "data": {
            "image/png": "[encoded data removed]",
            "text/plain": [
              "<Figure size 432x288 with 1 Axes>"
            ]
          },
          "metadata": {
            "tags": [],
            "needs_background": "light"
          }
        }
      ]
    },
    {
      "cell_type": "code",
      "metadata": {
        "scrolled": true,
        "id": "KojLUxwHL-JN",
        "colab_type": "code",
        "colab": {
          "base_uri": "https://localhost:8080/",
          "height": 295
        },
        "outputId": "0e3ea613-59af-4801-cc23-371f51354237"
      },
      "source": [
        "plt.plot(result.history['rmse'])\n",
        "plt.plot(result.history['val_rmse'])\n",
        "plt.title('rmse')\n",
        "plt.xlabel('epoch')\n",
        "plt.ylabel('rmse')\n",
        "plt.legend(['train', 'test'], loc='upper left')\n",
        "plt.show()"
      ],
      "execution_count": 93,
      "outputs": [
        {
          "output_type": "display_data",
          "data": {
            "image/png": "[encoded data removed]",
            "text/plain": [
              "<Figure size 432x288 with 1 Axes>"
            ]
          },
          "metadata": {
            "tags": [],
            "needs_background": "light"
          }
        }
      ]
    },
    {
      "cell_type": "code",
      "metadata": {
        "id": "x1zB0mmQL-JQ",
        "colab_type": "code",
        "colab": {}
      },
      "source": [
        "regressor = LinearRegression()\n",
        "regressor.fit(y_test.values.reshape(-1, 1), y_pred)\n",
        "y_fit = regressor.predict(y_pred)"
      ],
      "execution_count": 94,
      "outputs": []
    },
    {
      "cell_type": "code",
      "metadata": {
        "id": "nV5nwAV7L-JS",
        "colab_type": "code",
        "colab": {
          "base_uri": "https://localhost:8080/",
          "height": 295
        },
        "outputId": "b613c814-86cb-45b6-c293-a2e9d861aec5"
      },
      "source": [
        "plt.scatter(y_test, y_pred, color='blue', label='data')\n",
        "plt.plot(y_pred, y_fit, color='red', linewidth=2, label='Linear Regression')\n",
        "plt.title('Linear Regressor')\n",
        "plt.legend()\n",
        "plt.xlabel('observed')\n",
        "plt.ylabel('predicted')\n",
        "plt.show()"
      ],
      "execution_count": 95,
      "outputs": [
        {
          "output_type": "display_data",
          "data": {
            "image/png": "[encoded data removed]",
            "text/plain": [
              "<Figure size 432x288 with 1 Axes>"
            ]
          },
          "metadata": {
            "tags": [],
            "needs_background": "light"
          }
        }
      ]
    },
    {
      "cell_type": "code",
      "metadata": {
        "id": "j-uxM--eL-JX",
        "colab_type": "code",
        "colab": {
          "base_uri": "https://localhost:8080/",
          "height": 68
        },
        "outputId": "6376ef57-d259-42c0-d259-e88d92e13089"
      },
      "source": [
        "print(\"Mean Absolute Error (MAE): %f\" % sklearn.metrics.mean_absolute_error(y_test, y_pred))\n",
        "print(\"Root Mean Squared Error (RMSE): %f\" % math.sqrt(sklearn.metrics.mean_squared_error(y_test, y_pred)))\n",
        "print(\"R square (R^2): %f\" % sklearn.metrics.r2_score(y_test, y_pred))"
      ],
      "execution_count": 96,
      "outputs": [
        {
          "output_type": "stream",
          "text": [
            "Mean Absolute Error (MAE): 2169.281847\n",
            "Root Mean Squared Error (RMSE): 2753.589666\n",
            "R square (R^2): -1.635957\n"
          ],
          "name": "stdout"
        }
      ]
    }
  ]
}