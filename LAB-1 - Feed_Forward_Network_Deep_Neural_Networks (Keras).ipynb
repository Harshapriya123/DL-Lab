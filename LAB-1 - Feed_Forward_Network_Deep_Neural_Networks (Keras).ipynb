{
 "cells": [
  {
   "cell_type": "code",
   "execution_count": 1,
   "metadata": {},
   "outputs": [
    {
     "name": "stdout",
     "output_type": "stream",
     "text": [
      "Epoch: 1\n",
      "\tWeight:0.31632430823880264281\n",
      "\tTrue value:1.00000000000000000000\n",
      "\tOutput value:0.66022140965063624840\n",
      "\tLoss: 0.56410769023892681773\n",
      "\tDerivative:-0.42400002357896565686\n",
      "Epoch: 2\n",
      "\tWeight:1.31632430823880275383\n",
      "\tTrue value:1.00000000000000000000\n",
      "\tOutput value:0.94071484081958878232\n",
      "\tLoss: 0.11505558826177575416\n",
      "\tDerivative:-0.27442489682703946619\n",
      "Epoch: 3\n",
      "\tWeight:2.31632430823880275383\n",
      "\tTrue value:1.00000000000000000000\n",
      "\tOutput value:0.99234172713594592796\n",
      "\tLoss: 0.01525789658484788536\n",
      "\tDerivative:-0.05658408996974978455\n",
      "Epoch: 4\n",
      "\tWeight:3.31632430823880275383\n",
      "\tTrue value:1.00000000000000000000\n",
      "\tOutput value:0.99905585012937281331\n",
      "\tLoss: 0.00188740832227618505\n",
      "\tDerivative:-0.00751324189421581634\n",
      "Epoch: 5\n",
      "\tWeight:4.31632430823880319792\n",
      "\tTrue value:1.00000000000000000000\n",
      "\tOutput value:0.99988428690703190505\n",
      "\tLoss: 0.00023141279641625268\n",
      "\tDerivative:-0.00092953301048798176\n"
     ]
    },
    {
     "data": {
      "image/png": "[encoded data removed]",
      "text/plain": [
       "<Figure size 432x288 with 1 Axes>"
      ]
     },
     "metadata": {
      "needs_background": "light"
     },
     "output_type": "display_data"
    }
   ],
   "source": [
    "import numpy as np\n",
    "import random\n",
    "from scipy.misc import derivative\n",
    "\n",
    "# Known values for input (feature) and output (label)\n",
    "X = 2.1\n",
    "Y = 1\n",
    "\n",
    "# By how much should we adjust the weight with each iteration\n",
    "LR = 1\n",
    "\n",
    "# Neuron function\n",
    "def neuron(x, w):\n",
    "    from scipy.special import expit as sigmoid\n",
    "    return sigmoid(x * w)\n",
    "\n",
    "# Function to calculate loss\n",
    "def lossfunc(w):\n",
    "    return abs(Y - neuron(X, w)**2)\n",
    "\n",
    "# Initialize weight with a random value between 0 and 1\n",
    "w = random.uniform(0,1)\n",
    "\n",
    "# Call the function over 5 iterations (epochs), updating the weight and recording the loss each time\n",
    "e = 1\n",
    "weights = []\n",
    "losses = []\n",
    "while e < 6:\n",
    "    print('Epoch:', e)\n",
    "    e += 1\n",
    "    weights.append(w)\n",
    "    print('\\tWeight:%.20f' % w)\n",
    "\n",
    "    # Pass the value and weight forward through the neuron\n",
    "    y = neuron(X, w)\n",
    "    print('\\tTrue value:%.20f' % Y)\n",
    "    print('\\tOutput value:%.20f' % y)\n",
    "\n",
    "    # Calculate loss\n",
    "    loss = lossfunc(w)\n",
    "    losses.append(loss)\n",
    "    print('\\tLoss: %.20f' % loss)\n",
    "\n",
    "    # Which way should we adjust w to reduce loss?\n",
    "    dw = derivative(lossfunc, w)\n",
    "    print('\\tDerivative:%.20f' % dw)\n",
    "\n",
    "    if dw > 0:\n",
    "        # Slope is positive - decrease w\n",
    "        w = w - LR\n",
    "    elif dw < 0:\n",
    "        # Slope is negative - increase w\n",
    "        w = w + LR\n",
    "\n",
    "# Plot the function and the weights and losses in our epochs\n",
    "from matplotlib import pyplot as plt\n",
    "%matplotlib inline\n",
    "\n",
    "# Create an array of weight values\n",
    "wRange = np.linspace(-1, 7)\n",
    "\n",
    "# Use the function to get the corresponding loss values\n",
    "lRange = [lossfunc(i) for i in wRange]\n",
    "\n",
    "# Plot the function line\n",
    "plt.xlabel('Weight')\n",
    "plt.ylabel('Loss')\n",
    "plt.grid()\n",
    "plt.plot(wRange,lRange, color='grey', ls=\"--\")\n",
    "\n",
    "# Plot the weights and losses we recorded\n",
    "plt.scatter(weights,losses, c='red')\n",
    "e = 0\n",
    "while e < len(weights):\n",
    "    plt.annotate('E' + str(e+1),(weights[e], losses[e]))\n",
    "    e += 1\n",
    "\n",
    "plt.show()"
   ]
  },
  {
   "cell_type": "code",
   "execution_count": 2,
   "metadata": {},
   "outputs": [
    {
     "name": "stdout",
     "output_type": "stream",
     "text": [
      "Training Set: 90, Test Set: 60 \n",
      "\n",
      "Sample of features and labels:\n",
      "(features:  ['sepal length (cm)', 'sepal width (cm)', 'petal length (cm)', 'petal width (cm)'] )\n",
      "[6.  3.4 4.5 1.6] 1 (versicolor)\n",
      "[4.8 3.1 1.6 0.2] 0 (setosa)\n",
      "[5.8 2.7 5.1 1.9] 2 (virginica)\n",
      "[5.6 2.7 4.2 1.3] 1 (versicolor)\n",
      "[5.6 2.9 3.6 1.3] 1 (versicolor)\n",
      "[5.5 2.5 4.  1.3] 1 (versicolor)\n",
      "[6.1 3.  4.6 1.4] 1 (versicolor)\n",
      "[7.2 3.2 6.  1.8] 2 (virginica)\n",
      "[5.3 3.7 1.5 0.2] 0 (setosa)\n",
      "[4.3 3.  1.1 0.1] 0 (setosa)\n",
      "[6.4 2.7 5.3 1.9] 2 (virginica)\n",
      "[5.7 3.  4.2 1.2] 1 (versicolor)\n",
      "[5.4 3.4 1.7 0.2] 0 (setosa)\n",
      "[5.7 4.4 1.5 0.4] 0 (setosa)\n",
      "[6.9 3.1 4.9 1.5] 1 (versicolor)\n",
      "[4.6 3.1 1.5 0.2] 0 (setosa)\n",
      "[5.9 3.  5.1 1.8] 2 (virginica)\n",
      "[5.1 2.5 3.  1.1] 1 (versicolor)\n",
      "[4.6 3.4 1.4 0.3] 0 (setosa)\n",
      "[6.2 2.2 4.5 1.5] 1 (versicolor)\n",
      "[7.2 3.6 6.1 2.5] 2 (virginica)\n",
      "[5.7 2.9 4.2 1.3] 1 (versicolor)\n",
      "[4.8 3.  1.4 0.1] 0 (setosa)\n",
      "[7.1 3.  5.9 2.1] 2 (virginica)\n"
     ]
    }
   ],
   "source": [
    "import numpy as np\n",
    "from sklearn import datasets\n",
    "from sklearn.model_selection import train_test_split\n",
    "\n",
    "iris = datasets.load_iris()\n",
    "\n",
    "   \n",
    "# Split data 70%-30% into training set and test set\n",
    "x_train, x_test, y_train, y_test = train_test_split(iris.data, iris.target, test_size=0.40, random_state=0)\n",
    "\n",
    "print ('Training Set: %d, Test Set: %d \\n' % (len(x_train), len(x_test)))\n",
    "print(\"Sample of features and labels:\")\n",
    "print('(features: ',iris.feature_names, ')')\n",
    "\n",
    "# Take a look at the first 25 training features and corresponding labels\n",
    "for n in range(0,24):\n",
    "    print(x_train[n], y_train[n], '(' + iris.target_names[y_train[n]] + ')')"
   ]
  },
  {
   "cell_type": "markdown",
   "metadata": {},
   "source": [
    "The *features* are the measurements for each iris observation, and the *label* is a numeric value that indicates the species of iris that the observation represents (versicolor, virginica, or setosa).\n",
    "\n",
    "### Import Keras Libraries\n",
    "Since we plan to use Keras to create our iris classifier, we'll need to install and import the Keras libraries we intend to use. Keras is already installed in Azure Notebooks, but if you're using your own Jupyter instance you may need to install Keras and one of the backend frameworks on which it works (Theanos, TensorFlow, or CNTK). You can find detailed instructions at https://keras.io/."
   ]
  },
  {
   "cell_type": "code",
   "execution_count": 3,
   "metadata": {},
   "outputs": [
    {
     "name": "stdout",
     "output_type": "stream",
     "text": [
      "Libraries imported.\n",
      "Keras version: 2.4.3\n",
      "TensorFlow version: 2.3.0\n"
     ]
    }
   ],
   "source": [
    "import tensorflow, keras\n",
    "from keras.models import Sequential\n",
    "from keras.layers import Activation, Dense\n",
    "from keras.utils import np_utils\n",
    "from keras import optimizers\n",
    "from keras import backend as K\n",
    "\n",
    "print(\"Libraries imported.\")\n",
    "print('Keras version:',keras.__version__)\n",
    "print('TensorFlow version:',tensorflow.__version__)"
   ]
  },
  {
   "cell_type": "markdown",
   "metadata": {},
   "source": [
    "### Prepare the Data for Keras\n",
    "We've already loaded our data and split it into training and validation datasets. However, we need to do some further data preparation so that our data will work correctly with Keras. Specifically, we need to set the data type of our labels to 32-bit floating point numbers, and specify that the labels represent categorical classes rather than numeric values."
   ]
  },
  {
   "cell_type": "code",
   "execution_count": 4,
   "metadata": {},
   "outputs": [],
   "source": [
    "# Set data types for float features\n",
    "x_train = x_train.astype('float32')\n",
    "x_test = x_test.astype('float32')\n",
    "\n",
    "# Set data types for categorical labels\n",
    "y_train = np_utils.to_categorical(y_train)\n",
    "y_test = np_utils.to_categorical(y_test)"
   ]
  },
  {
   "cell_type": "markdown",
   "metadata": {},
   "source": [
    "### Define a Neural Network\n",
    "Now we're ready to define our neural network. In this case, we'll create a network that consists of 3 fully-connected layers:\n",
    "* An input layer that receives four input values (the iris features) and applies a *ReLU* activation function to produce ten outputs.\n",
    "* A hidden layer that receives ten inputs and applies a *ReLU* activation function to produce another ten outputs.\n",
    "* An output layer that uses a *SoftMax* activation function to generate three outputs (which represent the probabilities for the three iris species)"
   ]
  },
  {
   "cell_type": "code",
   "execution_count": 5,
   "metadata": {},
   "outputs": [
    {
     "name": "stdout",
     "output_type": "stream",
     "text": [
      "Model: \"sequential\"\n",
      "_________________________________________________________________\n",
      "Layer (type)                 Output Shape              Param #   \n",
      "=================================================================\n",
      "dense (Dense)                (None, 10)                50        \n",
      "_________________________________________________________________\n",
      "dense_1 (Dense)              (None, 10)                110       \n",
      "_________________________________________________________________\n",
      "dense_2 (Dense)              (None, 3)                 33        \n",
      "=================================================================\n",
      "Total params: 193\n",
      "Trainable params: 193\n",
      "Non-trainable params: 0\n",
      "_________________________________________________________________\n",
      "None\n"
     ]
    }
   ],
   "source": [
    "# Define a classifier network\n",
    "hl = 10 # Number of hidden layer nodes\n",
    "\n",
    "model = Sequential()\n",
    "model.add(Dense(hl, input_dim=4, activation='relu'))\n",
    "model.add(Dense(hl, input_dim=hl, activation='relu'))\n",
    "model.add(Dense(3, activation='softmax'))\n",
    "\n",
    "print(model.summary())"
   ]
  },
  {
   "cell_type": "markdown",
   "metadata": {},
   "source": [
    "### Train the Model\n",
    "To train the model, we need to repeatedly feed the training values forward through the network, use a loss function to calculate the loss, use an optimizer to backpropagate the weight and bias value adjustments, and validate the model using the test data we withheld.\n",
    "\n",
    "To do this, we'll apply a Stochastic Gradient Descent optimizer to a categorical cross-entropy loss function iteratively over 100 epochs."
   ]
  },
  {
   "cell_type": "code",
   "execution_count": 6,
   "metadata": {
    "scrolled": false
   },
   "outputs": [
    {
     "name": "stdout",
     "output_type": "stream",
     "text": [
      "Epoch 1/100\n",
      "9/9 [==============================] - 1s 97ms/step - loss: 0.9014 - accuracy: 0.4111 - val_loss: 0.6972 - val_accuracy: 0.8667\n",
      "Epoch 2/100\n",
      "9/9 [==============================] - 0s 10ms/step - loss: 0.6216 - accuracy: 0.7667 - val_loss: 0.6396 - val_accuracy: 0.6167\n",
      "Epoch 3/100\n",
      "9/9 [==============================] - 0s 10ms/step - loss: 0.3867 - accuracy: 0.8667 - val_loss: 0.3989 - val_accuracy: 0.8000\n",
      "Epoch 4/100\n",
      "9/9 [==============================] - 0s 14ms/step - loss: 0.3071 - accuracy: 0.8667 - val_loss: 0.2980 - val_accuracy: 0.9667\n",
      "Epoch 5/100\n",
      "9/9 [==============================] - 0s 9ms/step - loss: 0.2396 - accuracy: 0.9333 - val_loss: 0.2933 - val_accuracy: 0.9000\n",
      "Epoch 6/100\n",
      "9/9 [==============================] - 0s 8ms/step - loss: 0.2031 - accuracy: 0.9556 - val_loss: 0.2195 - val_accuracy: 0.9667\n",
      "Epoch 7/100\n",
      "9/9 [==============================] - 0s 8ms/step - loss: 0.1870 - accuracy: 0.9222 - val_loss: 0.1730 - val_accuracy: 0.9833\n",
      "Epoch 8/100\n",
      "9/9 [==============================] - 0s 9ms/step - loss: 0.1499 - accuracy: 0.9556 - val_loss: 0.1563 - val_accuracy: 0.9833\n",
      "Epoch 9/100\n",
      "9/9 [==============================] - 0s 7ms/step - loss: 0.1900 - accuracy: 0.8778 - val_loss: 0.2130 - val_accuracy: 0.9167\n",
      "Epoch 10/100\n",
      "9/9 [==============================] - 0s 8ms/step - loss: 0.1888 - accuracy: 0.8889 - val_loss: 0.1327 - val_accuracy: 0.9833\n",
      "Epoch 11/100\n",
      "9/9 [==============================] - 0s 11ms/step - loss: 0.1298 - accuracy: 0.9556 - val_loss: 0.1655 - val_accuracy: 0.9000\n",
      "Epoch 12/100\n",
      "9/9 [==============================] - 0s 10ms/step - loss: 0.1148 - accuracy: 0.9444 - val_loss: 0.1399 - val_accuracy: 0.9667\n",
      "Epoch 13/100\n",
      "9/9 [==============================] - 0s 10ms/step - loss: 0.1295 - accuracy: 0.9556 - val_loss: 0.1446 - val_accuracy: 0.9667\n",
      "Epoch 14/100\n",
      "9/9 [==============================] - 0s 9ms/step - loss: 0.1692 - accuracy: 0.9333 - val_loss: 0.7652 - val_accuracy: 0.6667\n",
      "Epoch 15/100\n",
      "9/9 [==============================] - 0s 10ms/step - loss: 0.5329 - accuracy: 0.8222 - val_loss: 0.3754 - val_accuracy: 0.8167\n",
      "Epoch 16/100\n",
      "9/9 [==============================] - 0s 8ms/step - loss: 0.4566 - accuracy: 0.7778 - val_loss: 0.5027 - val_accuracy: 0.6167\n",
      "Epoch 17/100\n",
      "9/9 [==============================] - 0s 8ms/step - loss: 0.4748 - accuracy: 0.7000 - val_loss: 0.5143 - val_accuracy: 0.6500\n",
      "Epoch 18/100\n",
      "9/9 [==============================] - 0s 8ms/step - loss: 0.4164 - accuracy: 0.9444 - val_loss: 0.4687 - val_accuracy: 0.9333\n",
      "Epoch 19/100\n",
      "9/9 [==============================] - 0s 10ms/step - loss: 0.3656 - accuracy: 0.8778 - val_loss: 0.4628 - val_accuracy: 0.6167\n",
      "Epoch 20/100\n",
      "9/9 [==============================] - 0s 12ms/step - loss: 0.3533 - accuracy: 0.8333 - val_loss: 0.4106 - val_accuracy: 0.9833\n",
      "Epoch 21/100\n",
      "9/9 [==============================] - 0s 9ms/step - loss: 0.3172 - accuracy: 0.9333 - val_loss: 0.3823 - val_accuracy: 0.8833\n",
      "Epoch 22/100\n",
      "9/9 [==============================] - 0s 8ms/step - loss: 0.2902 - accuracy: 0.8889 - val_loss: 0.3535 - val_accuracy: 0.9333\n",
      "Epoch 23/100\n",
      "9/9 [==============================] - 0s 11ms/step - loss: 0.2777 - accuracy: 0.9667 - val_loss: 0.3335 - val_accuracy: 0.8500\n",
      "Epoch 24/100\n",
      "9/9 [==============================] - 0s 12ms/step - loss: 0.2551 - accuracy: 0.9222 - val_loss: 0.2933 - val_accuracy: 0.9333\n",
      "Epoch 25/100\n",
      "9/9 [==============================] - 0s 12ms/step - loss: 0.1982 - accuracy: 0.9778 - val_loss: 0.2622 - val_accuracy: 0.9167\n",
      "Epoch 26/100\n",
      "9/9 [==============================] - 0s 25ms/step - loss: 0.1785 - accuracy: 0.9778 - val_loss: 0.2373 - val_accuracy: 0.9500\n",
      "Epoch 27/100\n",
      "9/9 [==============================] - 0s 24ms/step - loss: 0.1566 - accuracy: 0.9778 - val_loss: 0.3253 - val_accuracy: 0.8000\n",
      "Epoch 28/100\n",
      "9/9 [==============================] - 0s 7ms/step - loss: 0.1913 - accuracy: 0.9111 - val_loss: 0.4407 - val_accuracy: 0.7667\n",
      "Epoch 29/100\n",
      "9/9 [==============================] - 0s 8ms/step - loss: 0.1297 - accuracy: 0.9556 - val_loss: 0.1449 - val_accuracy: 0.9833\n",
      "Epoch 30/100\n",
      "9/9 [==============================] - 0s 8ms/step - loss: 0.1497 - accuracy: 0.9667 - val_loss: 0.1454 - val_accuracy: 0.9333\n",
      "Epoch 31/100\n",
      "9/9 [==============================] - 0s 7ms/step - loss: 0.1349 - accuracy: 0.9444 - val_loss: 0.1848 - val_accuracy: 0.9500\n",
      "Epoch 32/100\n",
      "9/9 [==============================] - 0s 6ms/step - loss: 0.0969 - accuracy: 0.9889 - val_loss: 0.1426 - val_accuracy: 0.9333\n",
      "Epoch 33/100\n",
      "9/9 [==============================] - 0s 9ms/step - loss: 0.0998 - accuracy: 0.9556 - val_loss: 0.2489 - val_accuracy: 0.8667\n",
      "Epoch 34/100\n",
      "9/9 [==============================] - 0s 15ms/step - loss: 0.1094 - accuracy: 0.9667 - val_loss: 0.1101 - val_accuracy: 0.9833\n",
      "Epoch 35/100\n",
      "9/9 [==============================] - 0s 12ms/step - loss: 0.1351 - accuracy: 0.9556 - val_loss: 0.2920 - val_accuracy: 0.8500\n",
      "Epoch 36/100\n",
      "9/9 [==============================] - 0s 10ms/step - loss: 0.0925 - accuracy: 0.9778 - val_loss: 0.4099 - val_accuracy: 0.8167\n",
      "Epoch 37/100\n",
      "9/9 [==============================] - ETA: 0s - loss: 0.7967 - accuracy: 0.80 - 0s 8ms/step - loss: 0.1733 - accuracy: 0.9556 - val_loss: 0.4824 - val_accuracy: 0.7833\n",
      "Epoch 38/100\n",
      "9/9 [==============================] - 0s 10ms/step - loss: 0.5320 - accuracy: 0.7889 - val_loss: 0.5485 - val_accuracy: 0.7667\n",
      "Epoch 39/100\n",
      "9/9 [==============================] - 0s 10ms/step - loss: 0.2230 - accuracy: 0.8889 - val_loss: 0.1461 - val_accuracy: 0.9500\n",
      "Epoch 40/100\n",
      "9/9 [==============================] - 0s 8ms/step - loss: 0.1029 - accuracy: 0.9778 - val_loss: 0.1440 - val_accuracy: 0.9333\n",
      "Epoch 41/100\n",
      "9/9 [==============================] - 0s 6ms/step - loss: 0.1120 - accuracy: 0.9444 - val_loss: 0.2081 - val_accuracy: 0.9167\n",
      "Epoch 42/100\n",
      "9/9 [==============================] - 0s 10ms/step - loss: 0.1050 - accuracy: 0.9556 - val_loss: 0.1139 - val_accuracy: 0.9833\n",
      "Epoch 43/100\n",
      "9/9 [==============================] - 0s 10ms/step - loss: 0.0845 - accuracy: 0.9556 - val_loss: 0.1746 - val_accuracy: 0.9000\n",
      "Epoch 44/100\n",
      "9/9 [==============================] - 0s 11ms/step - loss: 0.0716 - accuracy: 0.9667 - val_loss: 0.1545 - val_accuracy: 0.9500\n",
      "Epoch 45/100\n",
      "9/9 [==============================] - 0s 9ms/step - loss: 0.0710 - accuracy: 0.9889 - val_loss: 0.1057 - val_accuracy: 0.9833\n",
      "Epoch 46/100\n",
      "9/9 [==============================] - 0s 8ms/step - loss: 0.0800 - accuracy: 0.9444 - val_loss: 0.1379 - val_accuracy: 0.9500\n",
      "Epoch 47/100\n",
      "9/9 [==============================] - 0s 7ms/step - loss: 0.1500 - accuracy: 0.9222 - val_loss: 0.1442 - val_accuracy: 0.9500\n",
      "Epoch 48/100\n",
      "9/9 [==============================] - 0s 6ms/step - loss: 0.7411 - accuracy: 0.7889 - val_loss: 1.0004 - val_accuracy: 0.6833\n",
      "Epoch 49/100\n",
      "9/9 [==============================] - 0s 6ms/step - loss: 0.3671 - accuracy: 0.8556 - val_loss: 0.2456 - val_accuracy: 0.9333\n",
      "Epoch 50/100\n",
      "9/9 [==============================] - 0s 7ms/step - loss: 0.4535 - accuracy: 0.8222 - val_loss: 0.3033 - val_accuracy: 0.8667\n",
      "Epoch 51/100\n",
      "9/9 [==============================] - 0s 6ms/step - loss: 0.3818 - accuracy: 0.8556 - val_loss: 0.3382 - val_accuracy: 0.8833\n",
      "Epoch 52/100\n",
      "9/9 [==============================] - 0s 7ms/step - loss: 0.3500 - accuracy: 0.8444 - val_loss: 0.2344 - val_accuracy: 0.9500\n",
      "Epoch 53/100\n",
      "9/9 [==============================] - 0s 7ms/step - loss: 0.2019 - accuracy: 0.8889 - val_loss: 0.2132 - val_accuracy: 0.9833\n",
      "Epoch 54/100\n",
      "9/9 [==============================] - 0s 7ms/step - loss: 0.1453 - accuracy: 0.9778 - val_loss: 0.1996 - val_accuracy: 0.9833\n",
      "Epoch 55/100\n",
      "9/9 [==============================] - 0s 6ms/step - loss: 0.1334 - accuracy: 0.9778 - val_loss: 0.1810 - val_accuracy: 0.9833\n",
      "Epoch 56/100\n",
      "9/9 [==============================] - 0s 7ms/step - loss: 0.1193 - accuracy: 0.9889 - val_loss: 0.1682 - val_accuracy: 0.9833\n",
      "Epoch 57/100\n",
      "9/9 [==============================] - 0s 8ms/step - loss: 0.1036 - accuracy: 0.9778 - val_loss: 0.1555 - val_accuracy: 0.9833\n",
      "Epoch 58/100\n",
      "9/9 [==============================] - 0s 8ms/step - loss: 0.0951 - accuracy: 0.9778 - val_loss: 0.1541 - val_accuracy: 0.9667\n",
      "Epoch 59/100\n"
     ]
    },
    {
     "name": "stdout",
     "output_type": "stream",
     "text": [
      "9/9 [==============================] - 0s 7ms/step - loss: 0.0878 - accuracy: 0.9889 - val_loss: 0.1371 - val_accuracy: 0.9833\n",
      "Epoch 60/100\n",
      "9/9 [==============================] - 0s 7ms/step - loss: 0.0949 - accuracy: 0.9778 - val_loss: 0.1298 - val_accuracy: 0.9833\n",
      "Epoch 61/100\n",
      "9/9 [==============================] - 0s 8ms/step - loss: 0.0832 - accuracy: 0.9778 - val_loss: 0.1436 - val_accuracy: 0.9500\n",
      "Epoch 62/100\n",
      "9/9 [==============================] - 0s 9ms/step - loss: 0.0949 - accuracy: 0.9556 - val_loss: 0.1298 - val_accuracy: 0.9667\n",
      "Epoch 63/100\n",
      "9/9 [==============================] - 0s 7ms/step - loss: 0.0741 - accuracy: 0.9556 - val_loss: 0.1274 - val_accuracy: 0.9500\n",
      "Epoch 64/100\n",
      "9/9 [==============================] - 0s 7ms/step - loss: 0.0696 - accuracy: 0.9889 - val_loss: 0.1146 - val_accuracy: 0.9833\n",
      "Epoch 65/100\n",
      "9/9 [==============================] - 0s 7ms/step - loss: 0.0645 - accuracy: 0.9778 - val_loss: 0.1151 - val_accuracy: 0.9833\n",
      "Epoch 66/100\n",
      "9/9 [==============================] - 0s 7ms/step - loss: 0.0646 - accuracy: 0.9889 - val_loss: 0.1179 - val_accuracy: 0.9500\n",
      "Epoch 67/100\n",
      "9/9 [==============================] - 0s 7ms/step - loss: 0.0605 - accuracy: 0.9889 - val_loss: 0.1172 - val_accuracy: 0.9667\n",
      "Epoch 68/100\n",
      "9/9 [==============================] - 0s 5ms/step - loss: 0.0735 - accuracy: 0.9667 - val_loss: 0.1128 - val_accuracy: 0.9667\n",
      "Epoch 69/100\n",
      "9/9 [==============================] - 0s 10ms/step - loss: 0.0646 - accuracy: 0.9778 - val_loss: 0.1048 - val_accuracy: 0.9833\n",
      "Epoch 70/100\n",
      "9/9 [==============================] - 0s 7ms/step - loss: 0.0523 - accuracy: 0.9889 - val_loss: 0.1228 - val_accuracy: 0.9500\n",
      "Epoch 71/100\n",
      "9/9 [==============================] - 0s 6ms/step - loss: 0.0797 - accuracy: 0.9778 - val_loss: 0.1031 - val_accuracy: 0.9833\n",
      "Epoch 72/100\n",
      "9/9 [==============================] - 0s 7ms/step - loss: 0.0522 - accuracy: 0.9778 - val_loss: 0.1139 - val_accuracy: 0.9500\n",
      "Epoch 73/100\n",
      "9/9 [==============================] - 0s 7ms/step - loss: 0.0711 - accuracy: 0.9667 - val_loss: 0.1044 - val_accuracy: 0.9833\n",
      "Epoch 74/100\n",
      "9/9 [==============================] - 0s 6ms/step - loss: 0.0916 - accuracy: 0.9556 - val_loss: 0.2098 - val_accuracy: 0.9333\n",
      "Epoch 75/100\n",
      "9/9 [==============================] - 0s 6ms/step - loss: 0.0971 - accuracy: 0.9667 - val_loss: 0.1228 - val_accuracy: 0.9333\n",
      "Epoch 76/100\n",
      "9/9 [==============================] - 0s 7ms/step - loss: 0.0542 - accuracy: 0.9778 - val_loss: 0.1046 - val_accuracy: 0.9833\n",
      "Epoch 77/100\n",
      "9/9 [==============================] - 0s 9ms/step - loss: 0.1090 - accuracy: 0.9556 - val_loss: 0.1422 - val_accuracy: 0.9167\n",
      "Epoch 78/100\n",
      "9/9 [==============================] - 0s 9ms/step - loss: 0.0571 - accuracy: 0.9778 - val_loss: 0.1019 - val_accuracy: 0.9667\n",
      "Epoch 79/100\n",
      "9/9 [==============================] - 0s 7ms/step - loss: 0.0462 - accuracy: 0.9889 - val_loss: 0.1016 - val_accuracy: 0.9667\n",
      "Epoch 80/100\n",
      "9/9 [==============================] - 0s 7ms/step - loss: 0.0495 - accuracy: 0.9889 - val_loss: 0.1024 - val_accuracy: 0.9667\n",
      "Epoch 81/100\n",
      "9/9 [==============================] - 0s 7ms/step - loss: 0.0562 - accuracy: 0.9778 - val_loss: 0.1140 - val_accuracy: 0.9667\n",
      "Epoch 82/100\n",
      "9/9 [==============================] - 0s 6ms/step - loss: 0.0450 - accuracy: 0.9889 - val_loss: 0.1423 - val_accuracy: 0.9167\n",
      "Epoch 83/100\n",
      "9/9 [==============================] - 0s 7ms/step - loss: 0.0650 - accuracy: 0.9667 - val_loss: 0.1689 - val_accuracy: 0.9500\n",
      "Epoch 84/100\n",
      "9/9 [==============================] - 0s 7ms/step - loss: 0.1154 - accuracy: 0.9222 - val_loss: 0.1102 - val_accuracy: 0.9667\n",
      "Epoch 85/100\n",
      "9/9 [==============================] - 0s 7ms/step - loss: 0.0844 - accuracy: 0.9778 - val_loss: 0.1273 - val_accuracy: 0.9167\n",
      "Epoch 86/100\n",
      "9/9 [==============================] - 0s 6ms/step - loss: 0.0690 - accuracy: 0.9556 - val_loss: 0.1065 - val_accuracy: 0.9667\n",
      "Epoch 87/100\n",
      "9/9 [==============================] - 0s 6ms/step - loss: 0.0486 - accuracy: 0.9889 - val_loss: 0.1102 - val_accuracy: 0.9500\n",
      "Epoch 88/100\n",
      "9/9 [==============================] - 0s 6ms/step - loss: 0.0483 - accuracy: 0.9889 - val_loss: 0.0990 - val_accuracy: 0.9833\n",
      "Epoch 89/100\n",
      "9/9 [==============================] - 0s 9ms/step - loss: 0.0589 - accuracy: 0.9778 - val_loss: 0.1019 - val_accuracy: 0.9833\n",
      "Epoch 90/100\n",
      "9/9 [==============================] - 0s 10ms/step - loss: 0.0681 - accuracy: 0.9667 - val_loss: 0.1762 - val_accuracy: 0.9000\n",
      "Epoch 91/100\n",
      "9/9 [==============================] - 0s 9ms/step - loss: 0.0918 - accuracy: 0.9556 - val_loss: 0.1288 - val_accuracy: 0.9667\n",
      "Epoch 92/100\n",
      "9/9 [==============================] - 0s 8ms/step - loss: 0.0559 - accuracy: 0.9778 - val_loss: 0.2039 - val_accuracy: 0.9000\n",
      "Epoch 93/100\n",
      "9/9 [==============================] - 0s 6ms/step - loss: 0.0711 - accuracy: 0.9778 - val_loss: 0.1320 - val_accuracy: 0.9667\n",
      "Epoch 94/100\n",
      "9/9 [==============================] - 0s 7ms/step - loss: 0.0608 - accuracy: 0.9778 - val_loss: 0.1684 - val_accuracy: 0.9000\n",
      "Epoch 95/100\n",
      "9/9 [==============================] - 0s 7ms/step - loss: 0.0790 - accuracy: 0.9667 - val_loss: 0.0958 - val_accuracy: 0.9833\n",
      "Epoch 96/100\n",
      "9/9 [==============================] - 0s 6ms/step - loss: 0.0723 - accuracy: 0.9556 - val_loss: 0.1081 - val_accuracy: 0.9667\n",
      "Epoch 97/100\n",
      "9/9 [==============================] - 0s 12ms/step - loss: 0.0743 - accuracy: 0.9556 - val_loss: 0.1342 - val_accuracy: 0.9167\n",
      "Epoch 98/100\n",
      "9/9 [==============================] - 0s 9ms/step - loss: 0.0570 - accuracy: 0.9778 - val_loss: 0.1020 - val_accuracy: 0.9833\n",
      "Epoch 99/100\n",
      "9/9 [==============================] - 0s 8ms/step - loss: 0.0335 - accuracy: 0.9889 - val_loss: 0.1323 - val_accuracy: 0.9167\n",
      "Epoch 100/100\n",
      "9/9 [==============================] - 0s 9ms/step - loss: 0.1243 - accuracy: 0.9556 - val_loss: 0.0942 - val_accuracy: 0.9833\n"
     ]
    }
   ],
   "source": [
    "#hyper-parameters for optimizer\n",
    "learning_rate = 0.01\n",
    "learning_momentum = 0.9\n",
    "sgd = optimizers.SGD(lr=learning_rate, momentum = learning_momentum)\n",
    "\n",
    "model.compile(loss='categorical_crossentropy',\n",
    "              optimizer=sgd,\n",
    "              metrics=['accuracy'])\n",
    "\n",
    "# Train the model over 100 epochs using 10-observation batches and using the test holdout dataset for validation\n",
    "num_epochs = 100\n",
    "history = model.fit(x_train, y_train, epochs=num_epochs, batch_size=10, validation_data=(x_test, y_test))"
   ]
  },
  {
   "cell_type": "markdown",
   "metadata": {},
   "source": [
    "### Review Training and Validation Loss\n",
    "After training is complete, we can examine the loss metrics we recorded while training and validating the model. We're really looking for two things:\n",
    "* The loss should reduce with each epoch, showing that the model is learning the right weights and biases to predict the correct labels.\n",
    "* The training loss and validations loss should follow a similar trend, showing that the model is not overfitting to the training data.\n",
    "\n",
    "Let's plot the loss metrics and see:"
   ]
  },
  {
   "cell_type": "code",
   "execution_count": 7,
   "metadata": {},
   "outputs": [
    {
     "data": {
      "image/png": "[encoded data removed]",
      "text/plain": [
       "<Figure size 432x288 with 1 Axes>"
      ]
     },
     "metadata": {
      "needs_background": "light"
     },
     "output_type": "display_data"
    }
   ],
   "source": [
    "%matplotlib inline\n",
    "from matplotlib import pyplot as plt\n",
    "\n",
    "epoch_nums = range(1,num_epochs+1)\n",
    "training_loss = history.history[\"loss\"]\n",
    "validation_loss = history.history[\"val_loss\"]\n",
    "plt.plot(epoch_nums, training_loss)\n",
    "plt.plot(epoch_nums, validation_loss)\n",
    "plt.xlabel('epoch')\n",
    "plt.ylabel('loss')\n",
    "plt.legend(['training', 'validation'], loc='upper right')\n",
    "plt.show()"
   ]
  },
  {
   "cell_type": "markdown",
   "metadata": {},
   "source": [
    "### View the Learned Weights and Biases\n",
    "The trained model consists of the final weights and biases that were determined by the optimizer during training. Based on our network model we should expect the following values for each layer:\n",
    "* Layer 1: There are four input values going to ten output nodes, so there should be 10 x 4 weights and 10 bias values.\n",
    "* Layer 2: There are ten input values going to ten output nodes, so there should be 10 x 10 weights and 10 bias values.\n",
    "* Layer 3: There are ten input values going to three output nodes, so there should be 10 x 3 weights and 3 bias values."
   ]
  },
  {
   "cell_type": "code",
   "execution_count": 8,
   "metadata": {},
   "outputs": [
    {
     "name": "stdout",
     "output_type": "stream",
     "text": [
      "------------\n",
      "Weights:\n",
      " [[ 0.66359913 -0.1381005   0.23302758 -0.10200619 -0.5588361  -0.41755947\n",
      "  -0.05987466 -0.5404214  -0.7641028  -1.5272179 ]\n",
      " [ 0.9986595  -0.40084174 -0.22265223 -0.4912389   0.45909238  0.43307948\n",
      "  -0.5060637   0.6204511  -0.5710333  -1.0653541 ]\n",
      " [-1.5406288  -0.35149497 -1.0331775   0.04971655  0.42589676  0.23938596\n",
      "   0.11858001  0.2660036   0.465692    2.4300904 ]\n",
      " [-1.2313176   0.06501675 -0.28766632 -0.7201156  -0.46639693 -0.43694592\n",
      "  -0.36370876 -0.43579397  0.4904694   2.3255384 ]] \n",
      "Biases:\n",
      " [ 3.2005280e-01  0.0000000e+00  7.6599739e-02 -5.3995516e-02\n",
      "  0.0000000e+00  0.0000000e+00  1.7548913e-02 -7.6709426e-04\n",
      " -1.9515695e-01 -1.0843804e+00]\n",
      "------------\n",
      "Weights:\n",
      " [[ 0.31574288 -0.23709138 -0.05198707 -0.4947064   0.75271565 -0.22122666\n",
      "  -0.02521807  1.2845099   0.87164783 -0.10448024]\n",
      " [-0.36164218  0.4799086  -0.00371093  0.35546446  0.45427144  0.4903922\n",
      "   0.02182859 -0.04315138 -0.4047199   0.04984176]\n",
      " [ 0.34969187 -0.08815767  0.04670566  0.30446252  0.32699198  0.4122113\n",
      "  -0.3345197   0.32706448  0.38803568 -0.4651606 ]\n",
      " [ 0.22455171  0.40853184  0.16684937  0.54774165  0.24439009 -0.4346202\n",
      "   0.21061987 -0.4529187   0.25927508 -0.12747914]\n",
      " [ 0.29176402  0.15562576 -0.43563694  0.15594363 -0.51856244 -0.11667788\n",
      "   0.39998806 -0.43861496 -0.37105724  0.33708888]\n",
      " [-0.5218662  -0.54700947 -0.51572216  0.43820298 -0.07117149 -0.53546906\n",
      "   0.18141085  0.5058917   0.31324416  0.4383052 ]\n",
      " [-0.3722949   0.74810755  0.64002764  0.02916055 -0.5616306  -0.32073963\n",
      "  -0.0328868  -0.07702741 -0.3869221  -0.1973418 ]\n",
      " [-0.25781345  0.44398224 -0.2302851   0.05792625  0.44329342 -0.12074959\n",
      "   0.28489864 -0.3600904  -0.1379148  -0.03728682]\n",
      " [-0.5149603   0.59662867 -0.02656298 -0.1424282   0.24234255  0.3737852\n",
      "   0.30414027  0.16159166 -0.2428348  -0.39649826]\n",
      " [-0.25680873  1.3724146  -0.23673406  0.5937204  -0.35248518 -0.06857005\n",
      "  -0.46406892 -0.4670037  -0.5016756  -0.08681865]] \n",
      "Biases:\n",
      " [ 1.8484871e-01 -7.7098310e-01  1.5747862e+00  4.0341865e-02\n",
      " -2.2147508e-02  0.0000000e+00  0.0000000e+00 -5.3863612e-05\n",
      "  2.5897816e-01 -3.3267923e-02]\n",
      "------------\n",
      "Weights:\n",
      " [[ 0.2788477   0.24559441 -0.59915954]\n",
      " [-0.94274837 -0.22270788  1.5117948 ]\n",
      " [-1.0925076   1.1784955  -0.6165137 ]\n",
      " [-0.17247668  0.3057254   0.64380777]\n",
      " [ 1.059304   -0.09886266  0.27301154]\n",
      " [-0.06680709  0.3188522  -0.265846  ]\n",
      " [-0.3638473   0.4969883   0.620895  ]\n",
      " [ 1.095137   -0.3208719  -0.61189824]\n",
      " [ 0.6053877   0.29148048 -1.0060456 ]\n",
      " [ 0.28644466  0.06377139  0.63875896]] \n",
      "Biases:\n",
      " [-0.39495936  1.2996845  -0.9047236 ]\n"
     ]
    }
   ],
   "source": [
    "for layer in model.layers:\n",
    "    weights = layer.get_weights()[0]\n",
    "    biases = layer.get_weights()[1]\n",
    "    print('------------\\nWeights:\\n',weights,'\\nBiases:\\n', biases)"
   ]
  },
  {
   "cell_type": "markdown",
   "metadata": {},
   "source": [
    "### Evaluate Model Performance\n",
    "So, is the model any good? The raw accuracy reported from the validation data would seem to indicate that it predicts pretty well; but it's typically useful to dig a little deeper and compare the predictions for each possible class. A common way to visualize the performace of a classification model is to create a *confusion matrix* that shows a crosstab of correct and incorrect predictions for each class."
   ]
  },
  {
   "cell_type": "code",
   "execution_count": 9,
   "metadata": {},
   "outputs": [
    {
     "data": {
      "image/png": "[encoded data removed]",
      "text/plain": [
       "<Figure size 432x288 with 2 Axes>"
      ]
     },
     "metadata": {
      "needs_background": "light"
     },
     "output_type": "display_data"
    }
   ],
   "source": [
    "#Keras doesn't have a built-in confusion matrix metric, so we'll use SciKit-Learn\n",
    "import numpy as np\n",
    "from sklearn.metrics import confusion_matrix\n",
    "import matplotlib.pyplot as plt\n",
    "%matplotlib inline\n",
    "\n",
    "\n",
    "class_probabilities = model.predict(x_test)\n",
    "predictions = np.argmax(class_probabilities, axis=1)\n",
    "true_labels = np.argmax(y_test, axis=1)\n",
    "\n",
    "# Plot the confusion matrix\n",
    "cm = confusion_matrix(true_labels, predictions)\n",
    "plt.imshow(cm, interpolation=\"nearest\", cmap=plt.cm.Blues)\n",
    "plt.colorbar()\n",
    "tick_marks = np.arange(len(iris.target_names))\n",
    "plt.xticks(tick_marks, iris.target_names, rotation=85)\n",
    "plt.yticks(tick_marks, iris.target_names)\n",
    "plt.xlabel(\"Predicted Class\")\n",
    "plt.ylabel(\"True Class\")\n",
    "plt.show()"
   ]
  },
  {
   "cell_type": "markdown",
   "metadata": {},
   "source": [
    "The confusion matrix should show a strong diagonal line indicating that there are more correct than incorrect predictions for each class.\n",
    "\n",
    "### Using the Model with New Data\n",
    "Now that we have a model we believe is reasonably accurate, we can use it to predict the species of new iris observations:"
   ]
  },
  {
   "cell_type": "code",
   "execution_count": 10,
   "metadata": {},
   "outputs": [
    {
     "name": "stdout",
     "output_type": "stream",
     "text": [
      "New sample: [[6.6 3.2 5.8 2.4]]\n",
      "virginica\n"
     ]
    }
   ],
   "source": [
    "x_new = np.array([[6.6,3.2,5.8,2.4]])\n",
    "print ('New sample: {}'.format(x_new))\n",
    "\n",
    "class_probabilities = model.predict(x_new)\n",
    "predictions = np.argmax(class_probabilities, axis=1)\n",
    "\n",
    "print(iris.target_names[predictions][0])"
   ]
  },
  {
   "cell_type": "markdown",
   "metadata": {},
   "source": [
    "## Learn More\n",
    "This notebook was designed to help you understand the basic concepts and principles involved in deep neural networks, using a simple Keras example. To learn more about Keras, take a look at the <a href=\"https://keras.io/\" target=\"_blank\">Keras web site</a>."
   ]
  }
 ],
 "metadata": {
  "kernelspec": {
   "display_name": "Python 3",
   "language": "python",
   "name": "python3"
  },
  "language_info": {
   "codemirror_mode": {
    "name": "ipython",
    "version": 3
   },
   "file_extension": ".py",
   "mimetype": "text/x-python",
   "name": "python",
   "nbconvert_exporter": "python",
   "pygments_lexer": "ipython3",
   "version": "3.8.5"
  }
 },
 "nbformat": 4,
 "nbformat_minor": 2
}
